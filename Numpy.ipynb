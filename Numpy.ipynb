{
 "cells": [
  {
   "cell_type": "markdown",
   "id": "79f36160-4537-452e-b827-960db9a6c668",
   "metadata": {},
   "source": [
    "## NumPy: Numerical Python\n",
    "\n",
    "**NumPy (Numerical Python)** is a powerful Python library that provides support for large, multi-dimensional arrays and matrices, along with a collection of mathematical functions to operate on these arrays efficiently. It is a fundamental package for scientific computing with Python.\n",
    "\n",
    "NumPy is widely used in various fields such as mathematics, physics, engineering, data science, and machine learning. It offers a wide range of capabilities for performing numerical computations and handling numerical data effectively.\n",
    "\n",
    "### Here are the key features of NumPy:\n",
    "\n",
    "##### 1. Multi-dimensional array objects: \n",
    "NumPy provides the ndarray object, which allows you to create and manipulate arrays of any dimension. It supports one-dimensional, two-dimensional, and multi-dimensional arrays, enabling efficient storage and manipulation of large numerical datasets.\n",
    "\n",
    "##### 2. Mathematical functions and operations: \n",
    "NumPy offers a comprehensive set of mathematical functions that can be applied element-wise to arrays. These functions include basic arithmetic operations (addition, subtraction, multiplication, division), trigonometric functions, exponential and logarithmic functions, statistical functions, linear algebra operations, and more.\n",
    "\n",
    "##### 3. Broadcasting:\n",
    "NumPy enables broadcasting, which allows for efficient operations between arrays of different shapes. Broadcasting automatically aligns arrays with different dimensions, eliminating the need for explicit loops and simplifying code.\n",
    "\n",
    "##### 4. Array indexing and slicing:\n",
    "NumPy provides powerful indexing and slicing capabilities to access and manipulate elements and subarrays within an array. You can use indexing to retrieve specific elements or ranges of elements, and slicing to extract subarrays based on specific conditions.\n",
    "\n",
    "##### 5. Shape manipulation:\n",
    "NumPy offers functions to manipulate the shape and size of arrays. You can reshape arrays, transpose them, concatenate multiple arrays, split arrays into smaller ones, and more. These operations provide flexibility in data manipulation and preparation.\n",
    "\n",
    "##### 6. Array operations and computations:\n",
    "NumPy provides efficient implementations of various array operations, such as element-wise operations, matrix multiplication, dot product, matrix inversion, eigenvalue decomposition, and more. These operations are optimized for speed and memory efficiency.\n",
    "\n",
    "##### 7. Integration with other libraries:\n",
    "NumPy seamlessly integrates with other libraries in the scientific Python ecosystem. It serves as a foundation for many higher-level libraries, such as SciPy (scientific computing), Matplotlib (plotting), pandas (data analysis), and scikit-learn (machine learning). NumPy arrays are commonly used as input and output data structures for these libraries.\n",
    "\n",
    "##### 8. File input/output:\n",
    "NumPy offers functions to read and write array data to/from disk. It supports various file formats, such as plain text, CSV, and binary formats. This feature facilitates data storage and sharing across different platforms.\n",
    "\n",
    "##### 9. Random number generation: \n",
    "NumPy includes a random module that provides functions for generating random numbers and random arrays with different probability distributions. This capability is useful for simulations, modeling, and generating synthetic data."
   ]
  },
  {
   "cell_type": "markdown",
   "id": "3da605e7-e034-44f4-9415-f8a136e48993",
   "metadata": {},
   "source": [
    "### Import numpy"
   ]
  },
  {
   "cell_type": "code",
   "execution_count": 2,
   "id": "77abaaaf-302f-4a21-a334-902d103a633a",
   "metadata": {},
   "outputs": [],
   "source": [
    "import numpy as np"
   ]
  },
  {
   "cell_type": "code",
   "execution_count": 3,
   "id": "3faf9e0c-36f2-402b-bc4a-a15f4782c924",
   "metadata": {},
   "outputs": [],
   "source": [
    "l = [1,2,3,4,5] #list"
   ]
  },
  {
   "cell_type": "markdown",
   "id": "b0f8ed51-46b1-4389-9a94-4fb9b1d554f9",
   "metadata": {},
   "source": [
    "### Converting list to an array"
   ]
  },
  {
   "cell_type": "markdown",
   "id": "5691307c-50ba-489a-9143-c0bec5466b3f",
   "metadata": {},
   "source": [
    "#### Using np.array()"
   ]
  },
  {
   "cell_type": "code",
   "execution_count": 4,
   "id": "e44a726a-e416-4862-b8b1-a7d6046d5713",
   "metadata": {},
   "outputs": [
    {
     "data": {
      "text/plain": [
       "array([1, 2, 3, 4, 5])"
      ]
     },
     "execution_count": 4,
     "metadata": {},
     "output_type": "execute_result"
    }
   ],
   "source": [
    "arr = np.array(l)\n",
    "arr"
   ]
  },
  {
   "cell_type": "code",
   "execution_count": 5,
   "id": "abbbfff0-7a9d-4800-bc09-d13fa8751ff0",
   "metadata": {},
   "outputs": [
    {
     "data": {
      "text/plain": [
       "numpy.ndarray"
      ]
     },
     "execution_count": 5,
     "metadata": {},
     "output_type": "execute_result"
    }
   ],
   "source": [
    "# Checking the data type\n",
    "type(arr) "
   ]
  },
  {
   "cell_type": "code",
   "execution_count": 6,
   "id": "f2ca7f9e-b65e-4eee-86bf-71a078f8287d",
   "metadata": {},
   "outputs": [
    {
     "data": {
      "text/plain": [
       "1"
      ]
     },
     "execution_count": 6,
     "metadata": {},
     "output_type": "execute_result"
    }
   ],
   "source": [
    "# Checking dimention\n",
    "arr.ndim"
   ]
  },
  {
   "cell_type": "code",
   "execution_count": 35,
   "id": "c67847ab-1c66-42a1-b6b7-9296c3d0f6d7",
   "metadata": {},
   "outputs": [
    {
     "data": {
      "text/plain": [
       "5"
      ]
     },
     "execution_count": 35,
     "metadata": {},
     "output_type": "execute_result"
    }
   ],
   "source": [
    "arr.size"
   ]
  },
  {
   "cell_type": "code",
   "execution_count": 36,
   "id": "362ff6ca-1f6e-41f0-ba6a-b9a11ef24fa0",
   "metadata": {},
   "outputs": [
    {
     "data": {
      "text/plain": [
       "(5,)"
      ]
     },
     "execution_count": 36,
     "metadata": {},
     "output_type": "execute_result"
    }
   ],
   "source": [
    "arr.shape"
   ]
  },
  {
   "cell_type": "code",
   "execution_count": 40,
   "id": "22eada70-5d65-40b9-b497-5b89892c0eee",
   "metadata": {},
   "outputs": [
    {
     "data": {
      "text/plain": [
       "dtype('int64')"
      ]
     },
     "execution_count": 40,
     "metadata": {},
     "output_type": "execute_result"
    }
   ],
   "source": [
    "arr.dtype"
   ]
  },
  {
   "cell_type": "markdown",
   "id": "666e4928-4014-423b-a8f1-834d102f890e",
   "metadata": {},
   "source": [
    "#### Using np.asarray()"
   ]
  },
  {
   "cell_type": "code",
   "execution_count": 7,
   "id": "ca4b7832-7cd5-4e4f-b8d3-197113775501",
   "metadata": {},
   "outputs": [
    {
     "data": {
      "text/plain": [
       "array([1, 2, 3, 4, 5])"
      ]
     },
     "execution_count": 7,
     "metadata": {},
     "output_type": "execute_result"
    }
   ],
   "source": [
    "np.asarray(l)"
   ]
  },
  {
   "cell_type": "code",
   "execution_count": 8,
   "id": "7d996939-d1ee-4b2f-8b7e-aa933081c0a0",
   "metadata": {},
   "outputs": [
    {
     "data": {
      "text/plain": [
       "numpy.ndarray"
      ]
     },
     "execution_count": 8,
     "metadata": {},
     "output_type": "execute_result"
    }
   ],
   "source": [
    "# Checking data type\n",
    "type(np.asarray(l))"
   ]
  },
  {
   "cell_type": "code",
   "execution_count": 9,
   "id": "99e7975d-6c95-4280-a564-7852256364c4",
   "metadata": {},
   "outputs": [
    {
     "data": {
      "text/plain": [
       "1"
      ]
     },
     "execution_count": 9,
     "metadata": {},
     "output_type": "execute_result"
    }
   ],
   "source": [
    "# Checking dimention\n",
    "np.asarray(l).ndim"
   ]
  },
  {
   "cell_type": "markdown",
   "id": "3922d463-bd66-4b36-b233-2ef36e4e3b54",
   "metadata": {},
   "source": [
    "#### Using np.asanyarray()"
   ]
  },
  {
   "cell_type": "code",
   "execution_count": 10,
   "id": "c50e9a2a-d790-4a53-b124-8d70208f95dd",
   "metadata": {},
   "outputs": [
    {
     "data": {
      "text/plain": [
       "array([1, 2, 3, 4, 5])"
      ]
     },
     "execution_count": 10,
     "metadata": {},
     "output_type": "execute_result"
    }
   ],
   "source": [
    "np.asanyarray(l)"
   ]
  },
  {
   "cell_type": "code",
   "execution_count": 11,
   "id": "82ba913e-f9bd-408d-8d7e-2d438660fb30",
   "metadata": {},
   "outputs": [
    {
     "data": {
      "text/plain": [
       "numpy.ndarray"
      ]
     },
     "execution_count": 11,
     "metadata": {},
     "output_type": "execute_result"
    }
   ],
   "source": [
    "# Checking data type\n",
    "type(np.asanyarray(l))"
   ]
  },
  {
   "cell_type": "code",
   "execution_count": 12,
   "id": "e0b0447a-a9ed-4545-bf5b-2ce78a179ead",
   "metadata": {},
   "outputs": [
    {
     "data": {
      "text/plain": [
       "1"
      ]
     },
     "execution_count": 12,
     "metadata": {},
     "output_type": "execute_result"
    }
   ],
   "source": [
    "# Checking dimention\n",
    "np.asanyarray(l).ndim"
   ]
  },
  {
   "cell_type": "markdown",
   "id": "dac0cbe7-b273-4c4e-9e0c-ac38f9546018",
   "metadata": {},
   "source": [
    "#### Creating 2-dim array"
   ]
  },
  {
   "cell_type": "code",
   "execution_count": 13,
   "id": "0f8779bf-a9e1-47ba-8eed-457e7ca26a50",
   "metadata": {},
   "outputs": [],
   "source": [
    "arr1 = np.array([[1,2,3],[4,5,6]])"
   ]
  },
  {
   "cell_type": "code",
   "execution_count": 14,
   "id": "d7426eee-eb33-4ff7-a2b7-66605d2bd299",
   "metadata": {},
   "outputs": [
    {
     "data": {
      "text/plain": [
       "array([[1, 2, 3],\n",
       "       [4, 5, 6]])"
      ]
     },
     "execution_count": 14,
     "metadata": {},
     "output_type": "execute_result"
    }
   ],
   "source": [
    "arr1"
   ]
  },
  {
   "cell_type": "code",
   "execution_count": 15,
   "id": "acd8970b-d08f-4a2f-90b0-56e0deae6043",
   "metadata": {},
   "outputs": [
    {
     "data": {
      "text/plain": [
       "numpy.ndarray"
      ]
     },
     "execution_count": 15,
     "metadata": {},
     "output_type": "execute_result"
    }
   ],
   "source": [
    "# Checking data type\n",
    "type(arr1)"
   ]
  },
  {
   "cell_type": "code",
   "execution_count": 16,
   "id": "ff887c13-02c9-4b2d-9697-3939edb89218",
   "metadata": {},
   "outputs": [
    {
     "data": {
      "text/plain": [
       "2"
      ]
     },
     "execution_count": 16,
     "metadata": {},
     "output_type": "execute_result"
    }
   ],
   "source": [
    "# Checking dimension\n",
    "arr1.ndim"
   ]
  },
  {
   "cell_type": "code",
   "execution_count": 37,
   "id": "53cd4e75-c6ad-4b8d-aaff-2ed20a457956",
   "metadata": {},
   "outputs": [
    {
     "data": {
      "text/plain": [
       "6"
      ]
     },
     "execution_count": 37,
     "metadata": {},
     "output_type": "execute_result"
    }
   ],
   "source": [
    "arr1.size"
   ]
  },
  {
   "cell_type": "code",
   "execution_count": 38,
   "id": "215cfde5-118b-4e56-bf6b-8e400db6f797",
   "metadata": {},
   "outputs": [
    {
     "data": {
      "text/plain": [
       "(2, 3)"
      ]
     },
     "execution_count": 38,
     "metadata": {},
     "output_type": "execute_result"
    }
   ],
   "source": [
    "arr1.shape"
   ]
  },
  {
   "cell_type": "code",
   "execution_count": 39,
   "id": "c8300dd8-ce43-4371-aa54-1ade1e0077c9",
   "metadata": {},
   "outputs": [
    {
     "data": {
      "text/plain": [
       "dtype('int64')"
      ]
     },
     "execution_count": 39,
     "metadata": {},
     "output_type": "execute_result"
    }
   ],
   "source": [
    "arr1.dtype"
   ]
  },
  {
   "cell_type": "markdown",
   "id": "59955695-7c43-47d4-9039-6576aeac2bc6",
   "metadata": {},
   "source": [
    "#### Creating Matrix usins np.matrix()"
   ]
  },
  {
   "cell_type": "code",
   "execution_count": 17,
   "id": "3566a98c-d942-4735-a281-d5f703425666",
   "metadata": {},
   "outputs": [
    {
     "data": {
      "text/plain": [
       "matrix([[1, 2, 3, 4, 5]])"
      ]
     },
     "execution_count": 17,
     "metadata": {},
     "output_type": "execute_result"
    }
   ],
   "source": [
    "mat = np.matrix(l)\n",
    "mat"
   ]
  },
  {
   "cell_type": "code",
   "execution_count": 18,
   "id": "4eedaafb-0ff9-4b1e-bb35-ba17172297f1",
   "metadata": {},
   "outputs": [
    {
     "data": {
      "text/plain": [
       "numpy.matrix"
      ]
     },
     "execution_count": 18,
     "metadata": {},
     "output_type": "execute_result"
    }
   ],
   "source": [
    "type(mat)"
   ]
  },
  {
   "cell_type": "code",
   "execution_count": 19,
   "id": "a8a0420f-585a-49d2-b9b8-d600c099c5fb",
   "metadata": {},
   "outputs": [
    {
     "data": {
      "text/plain": [
       "array([[1, 2, 3, 4, 5]])"
      ]
     },
     "execution_count": 19,
     "metadata": {},
     "output_type": "execute_result"
    }
   ],
   "source": [
    "# matrix to array\n",
    "np.asarray(mat)"
   ]
  },
  {
   "cell_type": "code",
   "execution_count": 20,
   "id": "88a25f8d-d077-4ce8-a021-3de8b52b1853",
   "metadata": {},
   "outputs": [
    {
     "data": {
      "text/plain": [
       "numpy.ndarray"
      ]
     },
     "execution_count": 20,
     "metadata": {},
     "output_type": "execute_result"
    }
   ],
   "source": [
    "type(np.asarray(mat))"
   ]
  },
  {
   "cell_type": "code",
   "execution_count": 21,
   "id": "b71660c7-32bd-4d40-b958-e9ce5d65c052",
   "metadata": {},
   "outputs": [
    {
     "data": {
      "text/plain": [
       "matrix([[1, 2, 3, 4, 5]])"
      ]
     },
     "execution_count": 21,
     "metadata": {},
     "output_type": "execute_result"
    }
   ],
   "source": [
    "# matrix to matrix\n",
    "np.asanyarray(mat)"
   ]
  },
  {
   "cell_type": "code",
   "execution_count": 22,
   "id": "d3850df7-06ac-4fef-b1f8-3fde85330a0e",
   "metadata": {},
   "outputs": [
    {
     "data": {
      "text/plain": [
       "numpy.matrix"
      ]
     },
     "execution_count": 22,
     "metadata": {},
     "output_type": "execute_result"
    }
   ],
   "source": [
    "type(np.asanyarray(mat))"
   ]
  },
  {
   "cell_type": "code",
   "execution_count": null,
   "id": "c34e0b34-abf2-4ae3-a5de-983fa2fbbfa9",
   "metadata": {},
   "outputs": [],
   "source": []
  },
  {
   "cell_type": "markdown",
   "id": "2b00ed08-8b3f-4c0f-9a0c-5873bce0c165",
   "metadata": {},
   "source": [
    "#### NumPy provides different functions to create copies of arrays\n",
    "\n",
    "1. Shallow copy (view):\n",
    "\n",
    "**view():** This method creates a new array object that is a shallow copy of the original array. The new array is a view of the same data but with a different shape or strides. Changes made to the view will affect the original array, and vice versa.\n",
    "\n",
    "2. Deep copy:\n",
    "\n",
    "**np.copy():** This function creates a complete and independent copy of the original array. Any changes made to the copy will not affect the original array, and vice versa. It recursively copies all the data, including nested arrays."
   ]
  },
  {
   "cell_type": "code",
   "execution_count": 23,
   "id": "c1fdd5d2-67d4-4665-b43a-32cbdc122da3",
   "metadata": {},
   "outputs": [
    {
     "data": {
      "text/plain": [
       "array([1, 2, 3, 4, 5])"
      ]
     },
     "execution_count": 23,
     "metadata": {},
     "output_type": "execute_result"
    }
   ],
   "source": [
    "arr"
   ]
  },
  {
   "cell_type": "code",
   "execution_count": 24,
   "id": "46949279-42f4-4281-9515-2e0d2739d88c",
   "metadata": {},
   "outputs": [],
   "source": [
    "# Shallow copy (view)\n",
    "arr_shallow_copy = arr.view()"
   ]
  },
  {
   "cell_type": "code",
   "execution_count": 25,
   "id": "b47fe319-0b1f-4414-856f-eadc4d60a6b2",
   "metadata": {},
   "outputs": [],
   "source": [
    "arr_shallow_copy[0] = 10"
   ]
  },
  {
   "cell_type": "code",
   "execution_count": 26,
   "id": "895a112d-328f-4c45-970a-261723de28bf",
   "metadata": {},
   "outputs": [
    {
     "data": {
      "text/plain": [
       "array([10,  2,  3,  4,  5])"
      ]
     },
     "execution_count": 26,
     "metadata": {},
     "output_type": "execute_result"
    }
   ],
   "source": [
    "arr_shallow_copy"
   ]
  },
  {
   "cell_type": "code",
   "execution_count": 27,
   "id": "a5c1a47a-1e5d-411d-9467-1c19410a4de6",
   "metadata": {},
   "outputs": [
    {
     "data": {
      "text/plain": [
       "array([10,  2,  3,  4,  5])"
      ]
     },
     "execution_count": 27,
     "metadata": {},
     "output_type": "execute_result"
    }
   ],
   "source": [
    "# Change in arr_shallow_copy also changes arr\n",
    "arr"
   ]
  },
  {
   "cell_type": "code",
   "execution_count": 28,
   "id": "3512f305-6c01-4407-be0e-ada0c939694e",
   "metadata": {},
   "outputs": [
    {
     "data": {
      "text/plain": [
       "array([10,  2,  3,  4,  5])"
      ]
     },
     "execution_count": 28,
     "metadata": {},
     "output_type": "execute_result"
    }
   ],
   "source": [
    "# Now arr becomes\n",
    "arr"
   ]
  },
  {
   "cell_type": "code",
   "execution_count": 29,
   "id": "432c7365-df62-469b-be72-4d469c785300",
   "metadata": {},
   "outputs": [],
   "source": [
    "# Deep copy\n",
    "arr_deep_copy = np.copy(arr)"
   ]
  },
  {
   "cell_type": "code",
   "execution_count": 30,
   "id": "4bbd1500-d936-4396-878a-28faa10b913b",
   "metadata": {},
   "outputs": [],
   "source": [
    "arr_deep_copy[0] = 20"
   ]
  },
  {
   "cell_type": "code",
   "execution_count": 31,
   "id": "cceae652-17f0-476b-8f98-42a0aa8acfe2",
   "metadata": {},
   "outputs": [
    {
     "data": {
      "text/plain": [
       "array([20,  2,  3,  4,  5])"
      ]
     },
     "execution_count": 31,
     "metadata": {},
     "output_type": "execute_result"
    }
   ],
   "source": [
    "arr_deep_copy"
   ]
  },
  {
   "cell_type": "code",
   "execution_count": 32,
   "id": "43d52295-d037-4172-8a84-25066608d339",
   "metadata": {},
   "outputs": [
    {
     "data": {
      "text/plain": [
       "array([10,  2,  3,  4,  5])"
      ]
     },
     "execution_count": 32,
     "metadata": {},
     "output_type": "execute_result"
    }
   ],
   "source": [
    "# Deep copy donot change arr\n",
    "arr"
   ]
  },
  {
   "cell_type": "markdown",
   "id": "7621a0cd-0463-4902-8adf-ecc439a59116",
   "metadata": {},
   "source": [
    "#### The functions fromfunction(), fromstring(), and fromiter() are used to create arrays based on different sources of data."
   ]
  },
  {
   "cell_type": "markdown",
   "id": "6092d6b4-4b87-4109-8f3f-4ca014f42ad9",
   "metadata": {},
   "source": [
    "#### numpy.fromfunction:\n",
    "This function creates a new array by executing a specified function over each coordinate of the array. \n",
    "* It takes two parameters: the function and the shape of the resulting array. The function is called with N parameters, where N is the number of dimensions of the output array. The function should return the value to be placed at each coordinate."
   ]
  },
  {
   "cell_type": "code",
   "execution_count": 33,
   "id": "16d066ba-a194-46d6-a087-7dc6a9172a34",
   "metadata": {},
   "outputs": [
    {
     "data": {
      "text/plain": [
       "array([[ True, False, False],\n",
       "       [False,  True, False],\n",
       "       [False, False,  True]])"
      ]
     },
     "execution_count": 33,
     "metadata": {},
     "output_type": "execute_result"
    }
   ],
   "source": [
    "np.fromfunction(lambda i,j : i==j, (3,3))"
   ]
  },
  {
   "cell_type": "code",
   "execution_count": 34,
   "id": "b0ee5387-eb3b-491a-82f3-8355dc2c27ea",
   "metadata": {},
   "outputs": [
    {
     "data": {
      "text/plain": [
       "array([[0., 0., 0.],\n",
       "       [0., 1., 2.],\n",
       "       [0., 2., 4.]])"
      ]
     },
     "execution_count": 34,
     "metadata": {},
     "output_type": "execute_result"
    }
   ],
   "source": [
    "np.fromfunction(lambda i,j : i*j, (3,3))"
   ]
  },
  {
   "cell_type": "markdown",
   "id": "4469d369-e8a8-431b-99c6-eb73929cbe86",
   "metadata": {},
   "source": [
    "#### numpy.fromiter:\n",
    "This function creates an array from an iterable object such as a list or a generator. \n",
    "* It takes three parameters: the iterable object, the data type of the resulting array, and the number of elements to read from the iterable. If the number of elements is not specified, it reads until the iterator is exhausted."
   ]
  },
  {
   "cell_type": "code",
   "execution_count": 27,
   "id": "fe46d3a2-cb5d-435a-aa65-a01d37e7bd84",
   "metadata": {},
   "outputs": [
    {
     "data": {
      "text/plain": [
       "[0, 1, 4, 9, 16]"
      ]
     },
     "execution_count": 27,
     "metadata": {},
     "output_type": "execute_result"
    }
   ],
   "source": [
    "list(i*i for i in range(5))"
   ]
  },
  {
   "cell_type": "code",
   "execution_count": 28,
   "id": "94d5901c-4575-4cab-85e3-ddbe1e04b9ea",
   "metadata": {},
   "outputs": [],
   "source": [
    "iterable= (i*i for i in range(5))"
   ]
  },
  {
   "cell_type": "code",
   "execution_count": 29,
   "id": "cef1f523-02c1-417e-8670-0517bea51f42",
   "metadata": {},
   "outputs": [
    {
     "data": {
      "text/plain": [
       "array([ 0.,  1.,  4.,  9., 16.])"
      ]
     },
     "execution_count": 29,
     "metadata": {},
     "output_type": "execute_result"
    }
   ],
   "source": [
    "np.fromiter(iterable,float)"
   ]
  },
  {
   "cell_type": "markdown",
   "id": "c32b8113-075c-4302-bd69-32582064abc3",
   "metadata": {},
   "source": [
    "#### numpy.fromstring: \n",
    "This function creates an array by reading data from a string. \n",
    "* It takes two parameters: the string containing the data and the data type of the resulting array. The string is interpreted as a 1-dimensional array, and each character is considered as an element of the array. "
   ]
  },
  {
   "cell_type": "code",
   "execution_count": 30,
   "id": "b93ebf29-3d78-44bb-98d7-fa62a342b6e8",
   "metadata": {},
   "outputs": [
    {
     "data": {
      "text/plain": [
       "array([23., 45., 56.])"
      ]
     },
     "execution_count": 30,
     "metadata": {},
     "output_type": "execute_result"
    }
   ],
   "source": [
    "np.fromstring('23 45 56', sep = ' ')"
   ]
  },
  {
   "cell_type": "code",
   "execution_count": 31,
   "id": "c646a9b6-bcf7-405d-823d-01314a575b08",
   "metadata": {},
   "outputs": [
    {
     "data": {
      "text/plain": [
       "array([23., 45., 56.])"
      ]
     },
     "execution_count": 31,
     "metadata": {},
     "output_type": "execute_result"
    }
   ],
   "source": [
    "np.fromstring('23,45,56', sep = ',')"
   ]
  },
  {
   "cell_type": "code",
   "execution_count": 41,
   "id": "f08827bb-28e0-4714-b020-2c0a5196cb1b",
   "metadata": {},
   "outputs": [
    {
     "data": {
      "text/plain": [
       "[0, 1, 2, 3, 4]"
      ]
     },
     "execution_count": 41,
     "metadata": {},
     "output_type": "execute_result"
    }
   ],
   "source": [
    "list(range(5))"
   ]
  },
  {
   "cell_type": "code",
   "execution_count": 42,
   "id": "8c06cb53-5df1-4d69-a570-4a9a67ea6013",
   "metadata": {},
   "outputs": [
    {
     "data": {
      "text/plain": [
       "[0, 1, 2, 3, 4, 5, 6, 7, 8, 9]"
      ]
     },
     "execution_count": 42,
     "metadata": {},
     "output_type": "execute_result"
    }
   ],
   "source": [
    "list(range(0,10))"
   ]
  },
  {
   "cell_type": "code",
   "execution_count": 43,
   "id": "63afe9a0-7a34-41e0-8384-6d7f79307fb0",
   "metadata": {},
   "outputs": [
    {
     "ename": "TypeError",
     "evalue": "'float' object cannot be interpreted as an integer",
     "output_type": "error",
     "traceback": [
      "\u001b[0;31m---------------------------------------------------------------------------\u001b[0m",
      "\u001b[0;31mTypeError\u001b[0m                                 Traceback (most recent call last)",
      "Cell \u001b[0;32mIn[43], line 1\u001b[0m\n\u001b[0;32m----> 1\u001b[0m \u001b[38;5;28mlist\u001b[39m(\u001b[38;5;28;43mrange\u001b[39;49m\u001b[43m(\u001b[49m\u001b[38;5;241;43m0.4\u001b[39;49m\u001b[43m,\u001b[49m\u001b[38;5;241;43m10.4\u001b[39;49m\u001b[43m)\u001b[49m)\n",
      "\u001b[0;31mTypeError\u001b[0m: 'float' object cannot be interpreted as an integer"
     ]
    }
   ],
   "source": [
    "#'float' object cannot be interpreted as an integer\n",
    "list(range(0.4,10.4))"
   ]
  },
  {
   "cell_type": "markdown",
   "id": "16b4c2d4-0430-44ff-b557-78c7ea0c8f5e",
   "metadata": {},
   "source": [
    "* **np.arange** is a function in NumPy that creates an array of evenly spaced values within a specified range. \n",
    "* It is similar to the built-in **range** function in Python but returns an array instead of a list.\n",
    "* The **np.arange** function returns a 1-dimensional NumPy array containing the generated values. The array is created with the specified data type, or if not provided, it uses the default data type based on the inputs."
   ]
  },
  {
   "cell_type": "code",
   "execution_count": 45,
   "id": "e2c795da-d1d4-4ede-8703-012272f10344",
   "metadata": {},
   "outputs": [
    {
     "data": {
      "text/plain": [
       "array([0.4, 1.4, 2.4, 3.4, 4.4, 5.4, 6.4, 7.4, 8.4, 9.4])"
      ]
     },
     "execution_count": 45,
     "metadata": {},
     "output_type": "execute_result"
    }
   ],
   "source": [
    "np.arange(0.4,10.4,) #with step =1"
   ]
  },
  {
   "cell_type": "code",
   "execution_count": 47,
   "id": "c042dc91-032d-4a2e-aa00-b21ec72482e9",
   "metadata": {},
   "outputs": [
    {
     "data": {
      "text/plain": [
       "[0.4,\n",
       " 0.9,\n",
       " 1.4,\n",
       " 1.9,\n",
       " 2.4,\n",
       " 2.9,\n",
       " 3.4,\n",
       " 3.9,\n",
       " 4.4,\n",
       " 4.9,\n",
       " 5.4,\n",
       " 5.9,\n",
       " 6.4,\n",
       " 6.9,\n",
       " 7.4,\n",
       " 7.9,\n",
       " 8.4,\n",
       " 8.9,\n",
       " 9.4,\n",
       " 9.9]"
      ]
     },
     "execution_count": 47,
     "metadata": {},
     "output_type": "execute_result"
    }
   ],
   "source": [
    "list(np.arange(0.4,10.4, 0.5)) #with step =0.5"
   ]
  },
  {
   "cell_type": "markdown",
   "id": "7470a65b-2a10-4c9e-a1d3-355ee51bd47c",
   "metadata": {},
   "source": [
    "* **np.linspace** is a function in NumPy that creates an array of evenly spaced values within a specified interval.\n",
    "* Unlike **np.arange**, which generates values with a specified step size, np.linspace generates values with a specified number of elements evenly distributed between the start and stop values.\n",
    "* The **np.linspace** function returns a 1-dimensional NumPy array containing the generated values. The array is created with the specified data type, or if not provided, it uses the default data type based on the inputs."
   ]
  },
  {
   "cell_type": "code",
   "execution_count": 47,
   "id": "f1ddd744-b346-4610-8e1d-d548f0a8711b",
   "metadata": {},
   "outputs": [
    {
     "data": {
      "text/plain": [
       "array([1.        , 1.21052632, 1.42105263, 1.63157895, 1.84210526,\n",
       "       2.05263158, 2.26315789, 2.47368421, 2.68421053, 2.89473684,\n",
       "       3.10526316, 3.31578947, 3.52631579, 3.73684211, 3.94736842,\n",
       "       4.15789474, 4.36842105, 4.57894737, 4.78947368, 5.        ])"
      ]
     },
     "execution_count": 47,
     "metadata": {},
     "output_type": "execute_result"
    }
   ],
   "source": [
    "np.linspace(1,5,20)"
   ]
  },
  {
   "cell_type": "code",
   "execution_count": 48,
   "id": "2cfe9d92-c3a5-4b15-8726-642a09cd2293",
   "metadata": {},
   "outputs": [
    {
     "data": {
      "text/plain": [
       "array([ 2.        ,  2.72158   ,  3.70349885,  5.0396842 ,  6.85795186,\n",
       "        9.33223232, 12.69920842, 17.28095582, 23.51575188, 32.        ])"
      ]
     },
     "execution_count": 48,
     "metadata": {},
     "output_type": "execute_result"
    }
   ],
   "source": [
    "np.logspace(1,5,10, base=2)"
   ]
  },
  {
   "cell_type": "markdown",
   "id": "c3507f95-b58a-4604-9b0c-b9ceaeaf95a0",
   "metadata": {},
   "source": [
    "#### Generating arrays"
   ]
  },
  {
   "cell_type": "code",
   "execution_count": 48,
   "id": "d766fd5c-4360-4da4-875a-bdd580df14ac",
   "metadata": {},
   "outputs": [
    {
     "data": {
      "text/plain": [
       "array([0., 0., 0., 0., 0.])"
      ]
     },
     "execution_count": 48,
     "metadata": {},
     "output_type": "execute_result"
    }
   ],
   "source": [
    "np.zeros(5)"
   ]
  },
  {
   "cell_type": "code",
   "execution_count": 49,
   "id": "2837976d-359b-496b-950f-b60c69ab90ba",
   "metadata": {},
   "outputs": [
    {
     "data": {
      "text/plain": [
       "array([[0., 0., 0., 0.],\n",
       "       [0., 0., 0., 0.],\n",
       "       [0., 0., 0., 0.]])"
      ]
     },
     "execution_count": 49,
     "metadata": {},
     "output_type": "execute_result"
    }
   ],
   "source": [
    "np.zeros((3,4))"
   ]
  },
  {
   "cell_type": "code",
   "execution_count": 50,
   "id": "a5799438-5100-4fc2-92d6-e14e88209102",
   "metadata": {},
   "outputs": [
    {
     "data": {
      "text/plain": [
       "array([[[0., 0.],\n",
       "        [0., 0.],\n",
       "        [0., 0.],\n",
       "        [0., 0.]],\n",
       "\n",
       "       [[0., 0.],\n",
       "        [0., 0.],\n",
       "        [0., 0.],\n",
       "        [0., 0.]],\n",
       "\n",
       "       [[0., 0.],\n",
       "        [0., 0.],\n",
       "        [0., 0.],\n",
       "        [0., 0.]]])"
      ]
     },
     "execution_count": 50,
     "metadata": {},
     "output_type": "execute_result"
    }
   ],
   "source": [
    "np.zeros((3,4,2))"
   ]
  },
  {
   "cell_type": "code",
   "execution_count": 51,
   "id": "98f1bf68-6bcf-4740-9fd8-8547692993da",
   "metadata": {},
   "outputs": [
    {
     "data": {
      "text/plain": [
       "array([[[[0., 0., 0.],\n",
       "         [0., 0., 0.]],\n",
       "\n",
       "        [[0., 0., 0.],\n",
       "         [0., 0., 0.]],\n",
       "\n",
       "        [[0., 0., 0.],\n",
       "         [0., 0., 0.]],\n",
       "\n",
       "        [[0., 0., 0.],\n",
       "         [0., 0., 0.]]],\n",
       "\n",
       "\n",
       "       [[[0., 0., 0.],\n",
       "         [0., 0., 0.]],\n",
       "\n",
       "        [[0., 0., 0.],\n",
       "         [0., 0., 0.]],\n",
       "\n",
       "        [[0., 0., 0.],\n",
       "         [0., 0., 0.]],\n",
       "\n",
       "        [[0., 0., 0.],\n",
       "         [0., 0., 0.]]],\n",
       "\n",
       "\n",
       "       [[[0., 0., 0.],\n",
       "         [0., 0., 0.]],\n",
       "\n",
       "        [[0., 0., 0.],\n",
       "         [0., 0., 0.]],\n",
       "\n",
       "        [[0., 0., 0.],\n",
       "         [0., 0., 0.]],\n",
       "\n",
       "        [[0., 0., 0.],\n",
       "         [0., 0., 0.]]]])"
      ]
     },
     "execution_count": 51,
     "metadata": {},
     "output_type": "execute_result"
    }
   ],
   "source": [
    "np.zeros((3,4,2,3))"
   ]
  },
  {
   "cell_type": "code",
   "execution_count": 52,
   "id": "c5b78e99-e6ac-4fff-bc91-707e1e9a9769",
   "metadata": {},
   "outputs": [
    {
     "data": {
      "text/plain": [
       "array([1., 1., 1., 1., 1.])"
      ]
     },
     "execution_count": 52,
     "metadata": {},
     "output_type": "execute_result"
    }
   ],
   "source": [
    "np.ones(5)"
   ]
  },
  {
   "cell_type": "code",
   "execution_count": 53,
   "id": "bb36bece-cece-4c8f-99cd-0c5bdf699772",
   "metadata": {},
   "outputs": [],
   "source": [
    "arr = np.ones((3,4))"
   ]
  },
  {
   "cell_type": "code",
   "execution_count": 54,
   "id": "5bda31f4-7df5-4762-962b-150359ef2036",
   "metadata": {},
   "outputs": [
    {
     "data": {
      "text/plain": [
       "array([[1., 1., 1., 1.],\n",
       "       [1., 1., 1., 1.],\n",
       "       [1., 1., 1., 1.]])"
      ]
     },
     "execution_count": 54,
     "metadata": {},
     "output_type": "execute_result"
    }
   ],
   "source": [
    "arr"
   ]
  },
  {
   "cell_type": "code",
   "execution_count": 56,
   "id": "8e8e4917-33c2-47cf-a9c2-ea812ef783a3",
   "metadata": {},
   "outputs": [
    {
     "data": {
      "text/plain": [
       "array([[6., 6., 6., 6.],\n",
       "       [6., 6., 6., 6.],\n",
       "       [6., 6., 6., 6.]])"
      ]
     },
     "execution_count": 56,
     "metadata": {},
     "output_type": "execute_result"
    }
   ],
   "source": [
    "arr+5"
   ]
  },
  {
   "cell_type": "code",
   "execution_count": 57,
   "id": "8dc48263-6d2f-49b2-938c-f0c3fe59d037",
   "metadata": {},
   "outputs": [
    {
     "data": {
      "text/plain": [
       "array([[4., 4., 4., 4.],\n",
       "       [4., 4., 4., 4.],\n",
       "       [4., 4., 4., 4.]])"
      ]
     },
     "execution_count": 57,
     "metadata": {},
     "output_type": "execute_result"
    }
   ],
   "source": [
    "arr*4"
   ]
  },
  {
   "cell_type": "code",
   "execution_count": 58,
   "id": "709f63a6-082c-41c7-a207-40c3a740ab9c",
   "metadata": {},
   "outputs": [
    {
     "data": {
      "text/plain": [
       "array([[4.65537761e-310, 0.00000000e+000, 0.00000000e+000,\n",
       "        0.00000000e+000],\n",
       "       [0.00000000e+000, 0.00000000e+000, 0.00000000e+000,\n",
       "        0.00000000e+000]])"
      ]
     },
     "execution_count": 58,
     "metadata": {},
     "output_type": "execute_result"
    }
   ],
   "source": [
    "np.empty((2,4))"
   ]
  },
  {
   "cell_type": "code",
   "execution_count": 59,
   "id": "d73b77e9-7ed3-4c96-8620-1e4a0fd5a56d",
   "metadata": {},
   "outputs": [],
   "source": [
    "arr1 = np.eye(5)"
   ]
  },
  {
   "cell_type": "code",
   "execution_count": 60,
   "id": "c7db2abd-8606-4236-9fdf-b3876fa5c871",
   "metadata": {},
   "outputs": [
    {
     "data": {
      "text/plain": [
       "array([[1., 0., 0., 0., 0.],\n",
       "       [0., 1., 0., 0., 0.],\n",
       "       [0., 0., 1., 0., 0.],\n",
       "       [0., 0., 0., 1., 0.],\n",
       "       [0., 0., 0., 0., 1.]])"
      ]
     },
     "execution_count": 60,
     "metadata": {},
     "output_type": "execute_result"
    }
   ],
   "source": [
    "arr1"
   ]
  },
  {
   "cell_type": "code",
   "execution_count": 61,
   "id": "a51ad559-d257-4096-b379-0956d0078656",
   "metadata": {},
   "outputs": [],
   "source": [
    "import pandas as pd"
   ]
  },
  {
   "cell_type": "code",
   "execution_count": 62,
   "id": "64a9fc07-22d1-4356-880a-472c34dd866d",
   "metadata": {},
   "outputs": [
    {
     "data": {
      "text/html": [
       "<div>\n",
       "<style scoped>\n",
       "    .dataframe tbody tr th:only-of-type {\n",
       "        vertical-align: middle;\n",
       "    }\n",
       "\n",
       "    .dataframe tbody tr th {\n",
       "        vertical-align: top;\n",
       "    }\n",
       "\n",
       "    .dataframe thead th {\n",
       "        text-align: right;\n",
       "    }\n",
       "</style>\n",
       "<table border=\"1\" class=\"dataframe\">\n",
       "  <thead>\n",
       "    <tr style=\"text-align: right;\">\n",
       "      <th></th>\n",
       "      <th>0</th>\n",
       "      <th>1</th>\n",
       "      <th>2</th>\n",
       "      <th>3</th>\n",
       "      <th>4</th>\n",
       "    </tr>\n",
       "  </thead>\n",
       "  <tbody>\n",
       "    <tr>\n",
       "      <th>0</th>\n",
       "      <td>1.0</td>\n",
       "      <td>0.0</td>\n",
       "      <td>0.0</td>\n",
       "      <td>0.0</td>\n",
       "      <td>0.0</td>\n",
       "    </tr>\n",
       "    <tr>\n",
       "      <th>1</th>\n",
       "      <td>0.0</td>\n",
       "      <td>1.0</td>\n",
       "      <td>0.0</td>\n",
       "      <td>0.0</td>\n",
       "      <td>0.0</td>\n",
       "    </tr>\n",
       "    <tr>\n",
       "      <th>2</th>\n",
       "      <td>0.0</td>\n",
       "      <td>0.0</td>\n",
       "      <td>1.0</td>\n",
       "      <td>0.0</td>\n",
       "      <td>0.0</td>\n",
       "    </tr>\n",
       "    <tr>\n",
       "      <th>3</th>\n",
       "      <td>0.0</td>\n",
       "      <td>0.0</td>\n",
       "      <td>0.0</td>\n",
       "      <td>1.0</td>\n",
       "      <td>0.0</td>\n",
       "    </tr>\n",
       "    <tr>\n",
       "      <th>4</th>\n",
       "      <td>0.0</td>\n",
       "      <td>0.0</td>\n",
       "      <td>0.0</td>\n",
       "      <td>0.0</td>\n",
       "      <td>1.0</td>\n",
       "    </tr>\n",
       "  </tbody>\n",
       "</table>\n",
       "</div>"
      ],
      "text/plain": [
       "     0    1    2    3    4\n",
       "0  1.0  0.0  0.0  0.0  0.0\n",
       "1  0.0  1.0  0.0  0.0  0.0\n",
       "2  0.0  0.0  1.0  0.0  0.0\n",
       "3  0.0  0.0  0.0  1.0  0.0\n",
       "4  0.0  0.0  0.0  0.0  1.0"
      ]
     },
     "execution_count": 62,
     "metadata": {},
     "output_type": "execute_result"
    }
   ],
   "source": [
    "pd.DataFrame(arr1)"
   ]
  },
  {
   "cell_type": "markdown",
   "id": "28f2e698-e0c8-4819-a269-dfeb930f8f63",
   "metadata": {},
   "source": [
    "#### Generating array with random numbers"
   ]
  },
  {
   "cell_type": "code",
   "execution_count": 63,
   "id": "dec43ce6-0003-4481-8330-f3acd5aab344",
   "metadata": {},
   "outputs": [
    {
     "data": {
      "text/plain": [
       "array([[0.90722341, 0.76011829, 0.00359084],\n",
       "       [0.79185489, 0.02055809, 0.66231125]])"
      ]
     },
     "execution_count": 63,
     "metadata": {},
     "output_type": "execute_result"
    }
   ],
   "source": [
    "np.random.rand(2,3) # mean and sd is anything"
   ]
  },
  {
   "cell_type": "code",
   "execution_count": 64,
   "id": "c16b5569-5bae-4f50-85ca-e94281113bf2",
   "metadata": {},
   "outputs": [
    {
     "data": {
      "text/plain": [
       "array([[ 1.53788237, -0.17210574, -0.9305231 ],\n",
       "       [-0.95578894, -0.27007149,  1.47821512]])"
      ]
     },
     "execution_count": 64,
     "metadata": {},
     "output_type": "execute_result"
    }
   ],
   "source": [
    "np.random.randn(2,3) #mean =0, sd=1"
   ]
  },
  {
   "cell_type": "code",
   "execution_count": 64,
   "id": "caa3b883-0a33-4c96-8bc9-19d5fb2d15ed",
   "metadata": {},
   "outputs": [],
   "source": [
    "arr2 = np.random.randint(1,5,(3,4))"
   ]
  },
  {
   "cell_type": "code",
   "execution_count": 65,
   "id": "e36b8473-a84c-4bdd-83ce-a54b5993b30d",
   "metadata": {},
   "outputs": [
    {
     "data": {
      "text/plain": [
       "array([[3, 4, 3, 3],\n",
       "       [2, 3, 4, 4],\n",
       "       [3, 3, 2, 2]])"
      ]
     },
     "execution_count": 65,
     "metadata": {},
     "output_type": "execute_result"
    }
   ],
   "source": [
    "arr2"
   ]
  },
  {
   "cell_type": "code",
   "execution_count": 66,
   "id": "8e38b4de-75a7-4603-8c61-17b637932749",
   "metadata": {},
   "outputs": [
    {
     "data": {
      "text/plain": [
       "12"
      ]
     },
     "execution_count": 66,
     "metadata": {},
     "output_type": "execute_result"
    }
   ],
   "source": [
    "arr2.size"
   ]
  },
  {
   "cell_type": "code",
   "execution_count": 67,
   "id": "e5b77117-a02c-4da3-b34e-eeb16c1d47ff",
   "metadata": {},
   "outputs": [
    {
     "data": {
      "text/plain": [
       "(3, 4)"
      ]
     },
     "execution_count": 67,
     "metadata": {},
     "output_type": "execute_result"
    }
   ],
   "source": [
    "arr2.shape"
   ]
  },
  {
   "cell_type": "code",
   "execution_count": 68,
   "id": "63163ea1-365a-4ecd-be4f-82a9a5b8074f",
   "metadata": {},
   "outputs": [
    {
     "data": {
      "text/plain": [
       "array([[3, 4],\n",
       "       [3, 3],\n",
       "       [2, 3],\n",
       "       [4, 4],\n",
       "       [3, 3],\n",
       "       [2, 2]])"
      ]
     },
     "execution_count": 68,
     "metadata": {},
     "output_type": "execute_result"
    }
   ],
   "source": [
    "arr2.reshape(6,2)"
   ]
  },
  {
   "cell_type": "code",
   "execution_count": 69,
   "id": "454d5c1c-757b-48ab-ae72-638a919e30bd",
   "metadata": {},
   "outputs": [
    {
     "ename": "ValueError",
     "evalue": "cannot reshape array of size 12 into shape (6,3)",
     "output_type": "error",
     "traceback": [
      "\u001b[0;31m---------------------------------------------------------------------------\u001b[0m",
      "\u001b[0;31mValueError\u001b[0m                                Traceback (most recent call last)",
      "Cell \u001b[0;32mIn[69], line 1\u001b[0m\n\u001b[0;32m----> 1\u001b[0m \u001b[43marr2\u001b[49m\u001b[38;5;241;43m.\u001b[39;49m\u001b[43mreshape\u001b[49m\u001b[43m(\u001b[49m\u001b[38;5;241;43m6\u001b[39;49m\u001b[43m,\u001b[49m\u001b[38;5;241;43m3\u001b[39;49m\u001b[43m)\u001b[49m\n",
      "\u001b[0;31mValueError\u001b[0m: cannot reshape array of size 12 into shape (6,3)"
     ]
    }
   ],
   "source": [
    "arr2.reshape(6,3)"
   ]
  },
  {
   "cell_type": "code",
   "execution_count": 70,
   "id": "d7bc49de-b39f-43bc-bb4c-8b7d64e4c8d8",
   "metadata": {},
   "outputs": [
    {
     "data": {
      "text/plain": [
       "array([[3, 4, 3],\n",
       "       [3, 2, 3],\n",
       "       [4, 4, 3],\n",
       "       [3, 2, 2]])"
      ]
     },
     "execution_count": 70,
     "metadata": {},
     "output_type": "execute_result"
    }
   ],
   "source": [
    "arr2.reshape(4,3)"
   ]
  },
  {
   "cell_type": "code",
   "execution_count": 71,
   "id": "53d6488b-dc10-45c2-9d61-fee9caa0a12a",
   "metadata": {},
   "outputs": [
    {
     "data": {
      "text/plain": [
       "array([[3, 4, 3],\n",
       "       [3, 2, 3],\n",
       "       [4, 4, 3],\n",
       "       [3, 2, 2]])"
      ]
     },
     "execution_count": 71,
     "metadata": {},
     "output_type": "execute_result"
    }
   ],
   "source": [
    "# consider default i.e 3 instade of negetive(-1)\n",
    "arr2.reshape(4,-1)"
   ]
  },
  {
   "cell_type": "code",
   "execution_count": 72,
   "id": "136df1e6-3656-410a-adef-4b7d5cbb1589",
   "metadata": {},
   "outputs": [
    {
     "data": {
      "text/plain": [
       "array([[3, 4, 3],\n",
       "       [3, 2, 3],\n",
       "       [4, 4, 3],\n",
       "       [3, 2, 2]])"
      ]
     },
     "execution_count": 72,
     "metadata": {},
     "output_type": "execute_result"
    }
   ],
   "source": [
    "arr2.reshape(4,-30)"
   ]
  },
  {
   "cell_type": "code",
   "execution_count": 73,
   "id": "04dca460-91c8-4c5d-8052-75bdbd512d3d",
   "metadata": {},
   "outputs": [
    {
     "data": {
      "text/plain": [
       "array([[[3, 4, 3],\n",
       "        [3, 2, 3]],\n",
       "\n",
       "       [[4, 4, 3],\n",
       "        [3, 2, 2]]])"
      ]
     },
     "execution_count": 73,
     "metadata": {},
     "output_type": "execute_result"
    }
   ],
   "source": [
    "arr2.reshape(2,2,3)"
   ]
  },
  {
   "cell_type": "code",
   "execution_count": 74,
   "id": "6c4c3c87-3809-4028-9444-fd6115ac6ba4",
   "metadata": {},
   "outputs": [
    {
     "data": {
      "text/plain": [
       "array([[[[[3]],\n",
       "\n",
       "         [[4]],\n",
       "\n",
       "         [[3]]],\n",
       "\n",
       "\n",
       "        [[[3]],\n",
       "\n",
       "         [[2]],\n",
       "\n",
       "         [[3]]]],\n",
       "\n",
       "\n",
       "\n",
       "       [[[[4]],\n",
       "\n",
       "         [[4]],\n",
       "\n",
       "         [[3]]],\n",
       "\n",
       "\n",
       "        [[[3]],\n",
       "\n",
       "         [[2]],\n",
       "\n",
       "         [[2]]]]])"
      ]
     },
     "execution_count": 74,
     "metadata": {},
     "output_type": "execute_result"
    }
   ],
   "source": [
    "arr2.reshape(2,2,3,1,1)"
   ]
  },
  {
   "cell_type": "code",
   "execution_count": 91,
   "id": "23f9f81e-c9d0-466e-be2d-50ec5fc5e296",
   "metadata": {},
   "outputs": [],
   "source": [
    "arr1 = np.random.randint(1,10,(5,6))"
   ]
  },
  {
   "cell_type": "code",
   "execution_count": 92,
   "id": "3a0acfd3-4e1e-4cd0-b9bd-3dd563a13a1f",
   "metadata": {},
   "outputs": [
    {
     "data": {
      "text/plain": [
       "array([[4, 5, 2, 5, 4, 3],\n",
       "       [6, 8, 3, 1, 1, 3],\n",
       "       [7, 5, 2, 5, 7, 6],\n",
       "       [7, 4, 8, 5, 7, 9],\n",
       "       [5, 6, 1, 2, 3, 7]])"
      ]
     },
     "execution_count": 92,
     "metadata": {},
     "output_type": "execute_result"
    }
   ],
   "source": [
    "arr1"
   ]
  },
  {
   "cell_type": "code",
   "execution_count": 93,
   "id": "11c6909b-bb69-4f06-ab4a-e54b84151741",
   "metadata": {},
   "outputs": [
    {
     "data": {
      "text/plain": [
       "array([[False, False, False, False, False, False],\n",
       "       [False, False, False, False, False, False],\n",
       "       [False, False, False, False, False, False],\n",
       "       [False, False, False, False, False,  True],\n",
       "       [False, False, False, False, False, False]])"
      ]
     },
     "execution_count": 93,
     "metadata": {},
     "output_type": "execute_result"
    }
   ],
   "source": [
    "arr1>8"
   ]
  },
  {
   "cell_type": "code",
   "execution_count": 94,
   "id": "fbea060e-7d49-4f18-8265-221afc9da84a",
   "metadata": {},
   "outputs": [
    {
     "data": {
      "text/plain": [
       "array([9])"
      ]
     },
     "execution_count": 94,
     "metadata": {},
     "output_type": "execute_result"
    }
   ],
   "source": [
    "# Filter\n",
    "arr1[arr1>8]"
   ]
  },
  {
   "cell_type": "code",
   "execution_count": 95,
   "id": "f554c47b-c11e-4557-965d-8bedd77f97b2",
   "metadata": {},
   "outputs": [
    {
     "data": {
      "text/plain": [
       "array([[4, 5, 2, 5, 4, 3],\n",
       "       [6, 8, 3, 1, 1, 3],\n",
       "       [7, 5, 2, 5, 7, 6],\n",
       "       [7, 4, 8, 5, 7, 9],\n",
       "       [5, 6, 1, 2, 3, 7]])"
      ]
     },
     "execution_count": 95,
     "metadata": {},
     "output_type": "execute_result"
    }
   ],
   "source": [
    "arr1"
   ]
  },
  {
   "cell_type": "code",
   "execution_count": 96,
   "id": "2dd13c60-53d8-4b3e-bd80-e2f0dfaaeb0b",
   "metadata": {},
   "outputs": [
    {
     "data": {
      "text/plain": [
       "array([4, 5, 2, 5, 4, 3])"
      ]
     },
     "execution_count": 96,
     "metadata": {},
     "output_type": "execute_result"
    }
   ],
   "source": [
    "arr1[0]"
   ]
  },
  {
   "cell_type": "code",
   "execution_count": 97,
   "id": "77f7eb76-22f7-4d3a-b0d7-04c2101bfa78",
   "metadata": {},
   "outputs": [
    {
     "data": {
      "text/plain": [
       "array([4, 5])"
      ]
     },
     "execution_count": 97,
     "metadata": {},
     "output_type": "execute_result"
    }
   ],
   "source": [
    "arr1[0,[0,1]]"
   ]
  },
  {
   "cell_type": "code",
   "execution_count": 98,
   "id": "95293ad6-c655-4151-a257-84aeaa95254e",
   "metadata": {},
   "outputs": [
    {
     "data": {
      "text/plain": [
       "array([[2, 5],\n",
       "       [8, 5]])"
      ]
     },
     "execution_count": 98,
     "metadata": {},
     "output_type": "execute_result"
    }
   ],
   "source": [
    "arr1[2:4,[2,3]]"
   ]
  },
  {
   "cell_type": "code",
   "execution_count": 99,
   "id": "5279d4f2-b226-44cc-abf5-84abcc6094c9",
   "metadata": {},
   "outputs": [],
   "source": [
    "arr1 = np.random.randint(1,3,(3,3))\n",
    "arr2 = np.random.randint(1,3,(3,3))"
   ]
  },
  {
   "cell_type": "code",
   "execution_count": 100,
   "id": "08f7cd9a-6990-4a25-9f01-e7a1d90a1863",
   "metadata": {},
   "outputs": [
    {
     "data": {
      "text/plain": [
       "array([[2, 1, 1],\n",
       "       [1, 1, 2],\n",
       "       [2, 1, 1]])"
      ]
     },
     "execution_count": 100,
     "metadata": {},
     "output_type": "execute_result"
    }
   ],
   "source": [
    "arr1"
   ]
  },
  {
   "cell_type": "code",
   "execution_count": 101,
   "id": "c38832ff-5686-49c4-94cf-fc37449fd29d",
   "metadata": {},
   "outputs": [
    {
     "data": {
      "text/plain": [
       "array([[2, 2, 2],\n",
       "       [1, 1, 2],\n",
       "       [1, 1, 1]])"
      ]
     },
     "execution_count": 101,
     "metadata": {},
     "output_type": "execute_result"
    }
   ],
   "source": [
    "arr2"
   ]
  },
  {
   "cell_type": "code",
   "execution_count": 102,
   "id": "fcb65d1c-7ae1-4539-9164-2bba20208a1d",
   "metadata": {},
   "outputs": [
    {
     "data": {
      "text/plain": [
       "array([[4, 3, 3],\n",
       "       [2, 2, 4],\n",
       "       [3, 2, 2]])"
      ]
     },
     "execution_count": 102,
     "metadata": {},
     "output_type": "execute_result"
    }
   ],
   "source": [
    "arr1+arr2"
   ]
  },
  {
   "cell_type": "code",
   "execution_count": 103,
   "id": "27214b0b-3950-42ef-8a66-920d8d01b2ae",
   "metadata": {},
   "outputs": [
    {
     "data": {
      "text/plain": [
       "array([[ 0, -1, -1],\n",
       "       [ 0,  0,  0],\n",
       "       [ 1,  0,  0]])"
      ]
     },
     "execution_count": 103,
     "metadata": {},
     "output_type": "execute_result"
    }
   ],
   "source": [
    "arr1 - arr2"
   ]
  },
  {
   "cell_type": "code",
   "execution_count": 104,
   "id": "5a680711-c8f2-420a-878e-0a8809e71186",
   "metadata": {},
   "outputs": [
    {
     "data": {
      "text/plain": [
       "array([[4, 2, 2],\n",
       "       [1, 1, 4],\n",
       "       [2, 1, 1]])"
      ]
     },
     "execution_count": 104,
     "metadata": {},
     "output_type": "execute_result"
    }
   ],
   "source": [
    "arr1*arr2"
   ]
  },
  {
   "cell_type": "code",
   "execution_count": 105,
   "id": "b6b85cd3-2e8a-4ac1-abb0-229c9de4b918",
   "metadata": {},
   "outputs": [
    {
     "data": {
      "text/plain": [
       "array([[2, 1, 1],\n",
       "       [1, 1, 2],\n",
       "       [2, 1, 1]])"
      ]
     },
     "execution_count": 105,
     "metadata": {},
     "output_type": "execute_result"
    }
   ],
   "source": [
    "arr1"
   ]
  },
  {
   "cell_type": "code",
   "execution_count": 106,
   "id": "d6f43314-9f66-4449-8835-72d998e83c58",
   "metadata": {},
   "outputs": [
    {
     "data": {
      "text/plain": [
       "array([[2, 2, 2],\n",
       "       [1, 1, 2],\n",
       "       [1, 1, 1]])"
      ]
     },
     "execution_count": 106,
     "metadata": {},
     "output_type": "execute_result"
    }
   ],
   "source": [
    "arr2"
   ]
  },
  {
   "cell_type": "code",
   "execution_count": 107,
   "id": "e52ebe4b-92d0-4e5a-b474-523472067aa6",
   "metadata": {},
   "outputs": [
    {
     "data": {
      "text/plain": [
       "array([[6, 6, 7],\n",
       "       [5, 5, 6],\n",
       "       [6, 6, 7]])"
      ]
     },
     "execution_count": 107,
     "metadata": {},
     "output_type": "execute_result"
    }
   ],
   "source": [
    "arr1@arr2"
   ]
  },
  {
   "cell_type": "code",
   "execution_count": 108,
   "id": "083f3224-ff55-478f-aa87-9a675275ce4f",
   "metadata": {},
   "outputs": [
    {
     "data": {
      "text/plain": [
       "array([[1. , 0.5, 0.5],\n",
       "       [1. , 1. , 1. ],\n",
       "       [2. , 1. , 1. ]])"
      ]
     },
     "execution_count": 108,
     "metadata": {},
     "output_type": "execute_result"
    }
   ],
   "source": [
    "arr1/arr2"
   ]
  },
  {
   "cell_type": "code",
   "execution_count": 109,
   "id": "21f6824a-8ae4-4635-aa07-318922036cce",
   "metadata": {},
   "outputs": [
    {
     "name": "stderr",
     "output_type": "stream",
     "text": [
      "/tmp/ipykernel_77/1510032488.py:1: RuntimeWarning: divide by zero encountered in divide\n",
      "  arr1/0\n"
     ]
    },
    {
     "data": {
      "text/plain": [
       "array([[inf, inf, inf],\n",
       "       [inf, inf, inf],\n",
       "       [inf, inf, inf]])"
      ]
     },
     "execution_count": 109,
     "metadata": {},
     "output_type": "execute_result"
    }
   ],
   "source": [
    "arr1/0"
   ]
  },
  {
   "cell_type": "code",
   "execution_count": 110,
   "id": "7bef800e-500a-4e64-8700-79e007aa7570",
   "metadata": {},
   "outputs": [],
   "source": [
    "arr = np.zeros((3,4))"
   ]
  },
  {
   "cell_type": "code",
   "execution_count": 111,
   "id": "19103cb7-e67a-4f3b-bb9c-7b7ae6ec923e",
   "metadata": {},
   "outputs": [
    {
     "data": {
      "text/plain": [
       "array([[0., 0., 0., 0.],\n",
       "       [0., 0., 0., 0.],\n",
       "       [0., 0., 0., 0.]])"
      ]
     },
     "execution_count": 111,
     "metadata": {},
     "output_type": "execute_result"
    }
   ],
   "source": [
    "arr"
   ]
  },
  {
   "cell_type": "code",
   "execution_count": 112,
   "id": "dc5f15b3-22b1-47da-a6b3-1e6a83690476",
   "metadata": {},
   "outputs": [
    {
     "data": {
      "text/plain": [
       "array([[5., 5., 5., 5.],\n",
       "       [5., 5., 5., 5.],\n",
       "       [5., 5., 5., 5.]])"
      ]
     },
     "execution_count": 112,
     "metadata": {},
     "output_type": "execute_result"
    }
   ],
   "source": [
    "arr+5 #Broadcasting"
   ]
  },
  {
   "cell_type": "code",
   "execution_count": 113,
   "id": "06fcaf84-857c-43f7-ba7d-1d6d41a87299",
   "metadata": {},
   "outputs": [],
   "source": [
    "a = np.array([1,2,3,4])"
   ]
  },
  {
   "cell_type": "code",
   "execution_count": 114,
   "id": "a45fd436-96ec-4046-8671-64921893ec5c",
   "metadata": {},
   "outputs": [
    {
     "data": {
      "text/plain": [
       "array([[1., 2., 3., 4.],\n",
       "       [1., 2., 3., 4.],\n",
       "       [1., 2., 3., 4.]])"
      ]
     },
     "execution_count": 114,
     "metadata": {},
     "output_type": "execute_result"
    }
   ],
   "source": [
    "arr+a"
   ]
  },
  {
   "cell_type": "code",
   "execution_count": 115,
   "id": "45d284cd-a56f-4bae-a76f-f2f4020bf39a",
   "metadata": {},
   "outputs": [],
   "source": [
    "b = np.array([[3,4,5]])"
   ]
  },
  {
   "cell_type": "code",
   "execution_count": 116,
   "id": "28145948-979d-424e-a880-ca2362dcc503",
   "metadata": {},
   "outputs": [
    {
     "data": {
      "text/plain": [
       "array([[3],\n",
       "       [4],\n",
       "       [5]])"
      ]
     },
     "execution_count": 116,
     "metadata": {},
     "output_type": "execute_result"
    }
   ],
   "source": [
    "b.T"
   ]
  },
  {
   "cell_type": "code",
   "execution_count": 117,
   "id": "cf5e26a5-d560-4bce-814b-58ec3c4ecbd4",
   "metadata": {},
   "outputs": [],
   "source": [
    "arr1 = arr+b.T"
   ]
  },
  {
   "cell_type": "code",
   "execution_count": 118,
   "id": "2e54dd12-9d58-4791-8ea2-3a8598f9f0ce",
   "metadata": {},
   "outputs": [
    {
     "data": {
      "text/plain": [
       "array([[3., 3., 3., 3.],\n",
       "       [4., 4., 4., 4.],\n",
       "       [5., 5., 5., 5.]])"
      ]
     },
     "execution_count": 118,
     "metadata": {},
     "output_type": "execute_result"
    }
   ],
   "source": [
    "arr1"
   ]
  },
  {
   "cell_type": "code",
   "execution_count": 119,
   "id": "cc9153ac-7259-4637-a69b-3472406089a5",
   "metadata": {},
   "outputs": [
    {
     "data": {
      "text/plain": [
       "array([[1.73205081, 1.73205081, 1.73205081, 1.73205081],\n",
       "       [2.        , 2.        , 2.        , 2.        ],\n",
       "       [2.23606798, 2.23606798, 2.23606798, 2.23606798]])"
      ]
     },
     "execution_count": 119,
     "metadata": {},
     "output_type": "execute_result"
    }
   ],
   "source": [
    "np.sqrt(arr1)"
   ]
  },
  {
   "cell_type": "code",
   "execution_count": 120,
   "id": "c54ba703-44cd-4f7d-bd01-e564db3e16de",
   "metadata": {},
   "outputs": [
    {
     "data": {
      "text/plain": [
       "array([[0.47712125, 0.47712125, 0.47712125, 0.47712125],\n",
       "       [0.60205999, 0.60205999, 0.60205999, 0.60205999],\n",
       "       [0.69897   , 0.69897   , 0.69897   , 0.69897   ]])"
      ]
     },
     "execution_count": 120,
     "metadata": {},
     "output_type": "execute_result"
    }
   ],
   "source": [
    "np.log10(arr1)"
   ]
  },
  {
   "cell_type": "code",
   "execution_count": 121,
   "id": "1a469b36-0e5a-4cac-8cd2-521682289dfe",
   "metadata": {},
   "outputs": [
    {
     "data": {
      "text/plain": [
       "array([[ 20.08553692,  20.08553692,  20.08553692,  20.08553692],\n",
       "       [ 54.59815003,  54.59815003,  54.59815003,  54.59815003],\n",
       "       [148.4131591 , 148.4131591 , 148.4131591 , 148.4131591 ]])"
      ]
     },
     "execution_count": 121,
     "metadata": {},
     "output_type": "execute_result"
    }
   ],
   "source": [
    "np.exp(arr1)"
   ]
  },
  {
   "cell_type": "code",
   "execution_count": 122,
   "id": "b2eeef9a-80d1-4319-9a2f-ca5e7a3b7b16",
   "metadata": {},
   "outputs": [
    {
     "data": {
      "text/plain": [
       "3.0"
      ]
     },
     "execution_count": 122,
     "metadata": {},
     "output_type": "execute_result"
    }
   ],
   "source": [
    "np.min(arr1)"
   ]
  },
  {
   "cell_type": "code",
   "execution_count": 123,
   "id": "a1c5b5bd-c943-41e5-9c70-b4e2d0e7b3f3",
   "metadata": {},
   "outputs": [
    {
     "data": {
      "text/plain": [
       "5.0"
      ]
     },
     "execution_count": 123,
     "metadata": {},
     "output_type": "execute_result"
    }
   ],
   "source": [
    "np.max(arr1)"
   ]
  },
  {
   "cell_type": "code",
   "execution_count": 124,
   "id": "20c235b0-b619-4294-b87a-bfe32c570386",
   "metadata": {},
   "outputs": [],
   "source": [
    "arr1 = np.random.randint(1,5,(3,3))"
   ]
  },
  {
   "cell_type": "code",
   "execution_count": 125,
   "id": "c2fe57b7-64d2-492d-a320-60e610a68510",
   "metadata": {},
   "outputs": [
    {
     "data": {
      "text/plain": [
       "array([[2, 4, 4],\n",
       "       [1, 2, 4],\n",
       "       [1, 3, 4]])"
      ]
     },
     "execution_count": 125,
     "metadata": {},
     "output_type": "execute_result"
    }
   ],
   "source": [
    "arr1"
   ]
  },
  {
   "cell_type": "code",
   "execution_count": 126,
   "id": "324c62c5-4097-4b4a-93d0-b6bd0dee797e",
   "metadata": {},
   "outputs": [],
   "source": [
    "arr2 = np.random.randint(1,5,(3,3,3))"
   ]
  },
  {
   "cell_type": "code",
   "execution_count": 127,
   "id": "5d3f0e39-b06d-4229-ab4c-4a82d9709da6",
   "metadata": {},
   "outputs": [
    {
     "data": {
      "text/plain": [
       "array([[[2, 4, 4],\n",
       "        [4, 3, 1],\n",
       "        [3, 1, 4]],\n",
       "\n",
       "       [[3, 2, 1],\n",
       "        [4, 3, 4],\n",
       "        [1, 3, 3]],\n",
       "\n",
       "       [[3, 2, 1],\n",
       "        [2, 3, 4],\n",
       "        [4, 1, 3]]])"
      ]
     },
     "execution_count": 127,
     "metadata": {},
     "output_type": "execute_result"
    }
   ],
   "source": [
    "arr2"
   ]
  },
  {
   "cell_type": "code",
   "execution_count": 128,
   "id": "a09a62ee-fbce-4b77-8507-db721b18f7d7",
   "metadata": {},
   "outputs": [
    {
     "data": {
      "text/plain": [
       "array([[[ 4, 16, 16],\n",
       "        [ 4,  6,  4],\n",
       "        [ 3,  3, 16]],\n",
       "\n",
       "       [[ 6,  8,  4],\n",
       "        [ 4,  6, 16],\n",
       "        [ 1,  9, 12]],\n",
       "\n",
       "       [[ 6,  8,  4],\n",
       "        [ 2,  6, 16],\n",
       "        [ 4,  3, 12]]])"
      ]
     },
     "execution_count": 128,
     "metadata": {},
     "output_type": "execute_result"
    }
   ],
   "source": [
    "arr1*arr2"
   ]
  },
  {
   "cell_type": "code",
   "execution_count": 129,
   "id": "a1731d4f-d8e4-47e4-96a1-92ad73fa0856",
   "metadata": {},
   "outputs": [
    {
     "data": {
      "text/plain": [
       "array([[[ 4, 16, 16],\n",
       "        [ 4,  6,  4],\n",
       "        [ 3,  3, 16]],\n",
       "\n",
       "       [[ 6,  8,  4],\n",
       "        [ 4,  6, 16],\n",
       "        [ 1,  9, 12]],\n",
       "\n",
       "       [[ 6,  8,  4],\n",
       "        [ 2,  6, 16],\n",
       "        [ 4,  3, 12]]])"
      ]
     },
     "execution_count": 129,
     "metadata": {},
     "output_type": "execute_result"
    }
   ],
   "source": [
    "np.multiply(arr1,arr2)"
   ]
  },
  {
   "cell_type": "markdown",
   "id": "03b4f512-a13b-4d4d-8467-09558dd42186",
   "metadata": {},
   "source": [
    "#### Array manupulation"
   ]
  },
  {
   "cell_type": "code",
   "execution_count": 130,
   "id": "a23d0d21-00fb-4611-aee3-c11fbe59e80c",
   "metadata": {},
   "outputs": [],
   "source": [
    "arr = np.random.randint(1,10,[4,4])"
   ]
  },
  {
   "cell_type": "code",
   "execution_count": 131,
   "id": "f6ab6924-c513-4324-bdc3-9bdceb2abc5c",
   "metadata": {},
   "outputs": [
    {
     "data": {
      "text/plain": [
       "array([[9, 2, 1, 8],\n",
       "       [4, 6, 4, 8],\n",
       "       [5, 9, 7, 6],\n",
       "       [7, 1, 3, 8]])"
      ]
     },
     "execution_count": 131,
     "metadata": {},
     "output_type": "execute_result"
    }
   ],
   "source": [
    "arr"
   ]
  },
  {
   "cell_type": "code",
   "execution_count": 132,
   "id": "3eea8f0c-0835-45d2-85b0-d4a4a169b677",
   "metadata": {},
   "outputs": [
    {
     "data": {
      "text/plain": [
       "array([[9, 2],\n",
       "       [1, 8],\n",
       "       [4, 6],\n",
       "       [4, 8],\n",
       "       [5, 9],\n",
       "       [7, 6],\n",
       "       [7, 1],\n",
       "       [3, 8]])"
      ]
     },
     "execution_count": 132,
     "metadata": {},
     "output_type": "execute_result"
    }
   ],
   "source": [
    "arr.reshape(8,2)"
   ]
  },
  {
   "cell_type": "code",
   "execution_count": 133,
   "id": "b9be48ad-658b-4801-8b06-9cede55a6053",
   "metadata": {},
   "outputs": [
    {
     "data": {
      "text/plain": [
       "array([[9, 4, 5, 7],\n",
       "       [2, 6, 9, 1],\n",
       "       [1, 4, 7, 3],\n",
       "       [8, 8, 6, 8]])"
      ]
     },
     "execution_count": 133,
     "metadata": {},
     "output_type": "execute_result"
    }
   ],
   "source": [
    "arr.T"
   ]
  },
  {
   "cell_type": "code",
   "execution_count": 134,
   "id": "ddbe111f-5c17-4c30-95de-e26151fd414b",
   "metadata": {},
   "outputs": [
    {
     "data": {
      "text/plain": [
       "array([[9, 2, 1, 8],\n",
       "       [4, 6, 4, 8],\n",
       "       [5, 9, 7, 6],\n",
       "       [7, 1, 3, 8]])"
      ]
     },
     "execution_count": 134,
     "metadata": {},
     "output_type": "execute_result"
    }
   ],
   "source": [
    "arr"
   ]
  },
  {
   "cell_type": "code",
   "execution_count": 135,
   "id": "6fc4dc4d-d479-4fe9-b7a3-1fab72e9a77e",
   "metadata": {},
   "outputs": [
    {
     "data": {
      "text/plain": [
       "array([9, 2, 1, 8, 4, 6, 4, 8, 5, 9, 7, 6, 7, 1, 3, 8])"
      ]
     },
     "execution_count": 135,
     "metadata": {},
     "output_type": "execute_result"
    }
   ],
   "source": [
    "arr.flatten()"
   ]
  },
  {
   "cell_type": "code",
   "execution_count": 136,
   "id": "b9c1df71-d3b8-400f-bb69-bcbbfb58dda9",
   "metadata": {},
   "outputs": [
    {
     "data": {
      "text/plain": [
       "array([[9, 2, 1, 8],\n",
       "       [4, 6, 4, 8],\n",
       "       [5, 9, 7, 6],\n",
       "       [7, 1, 3, 8]])"
      ]
     },
     "execution_count": 136,
     "metadata": {},
     "output_type": "execute_result"
    }
   ],
   "source": [
    "arr"
   ]
  },
  {
   "cell_type": "code",
   "execution_count": 137,
   "id": "6361cacb-8d81-49ad-bb26-3975bb3e3f93",
   "metadata": {},
   "outputs": [
    {
     "data": {
      "text/plain": [
       "array([[[9, 2, 1, 8]],\n",
       "\n",
       "       [[4, 6, 4, 8]],\n",
       "\n",
       "       [[5, 9, 7, 6]],\n",
       "\n",
       "       [[7, 1, 3, 8]]])"
      ]
     },
     "execution_count": 137,
     "metadata": {},
     "output_type": "execute_result"
    }
   ],
   "source": [
    "np.expand_dims(arr, axis =1) #column wise"
   ]
  },
  {
   "cell_type": "code",
   "execution_count": 138,
   "id": "fcd2ea75-17ff-454b-b8d6-1f2bc529642e",
   "metadata": {},
   "outputs": [
    {
     "data": {
      "text/plain": [
       "array([[[9, 2, 1, 8],\n",
       "        [4, 6, 4, 8],\n",
       "        [5, 9, 7, 6],\n",
       "        [7, 1, 3, 8]]])"
      ]
     },
     "execution_count": 138,
     "metadata": {},
     "output_type": "execute_result"
    }
   ],
   "source": [
    "np.expand_dims(arr, axis =0)# row wise"
   ]
  },
  {
   "cell_type": "code",
   "execution_count": 139,
   "id": "fe1e969a-d692-452f-8fd8-4b9274c59a89",
   "metadata": {},
   "outputs": [],
   "source": [
    "data = np.array([[1],[2],[3]])"
   ]
  },
  {
   "cell_type": "code",
   "execution_count": 140,
   "id": "8ab975d5-ba86-4392-9308-ef9237c5fccf",
   "metadata": {},
   "outputs": [
    {
     "data": {
      "text/plain": [
       "array([[1],\n",
       "       [2],\n",
       "       [3]])"
      ]
     },
     "execution_count": 140,
     "metadata": {},
     "output_type": "execute_result"
    }
   ],
   "source": [
    "data"
   ]
  },
  {
   "cell_type": "code",
   "execution_count": 141,
   "id": "5ba3d8a3-847b-449e-9891-a37f2f14e9a2",
   "metadata": {},
   "outputs": [
    {
     "data": {
      "text/plain": [
       "array([1, 2, 3])"
      ]
     },
     "execution_count": 141,
     "metadata": {},
     "output_type": "execute_result"
    }
   ],
   "source": [
    "np.squeeze(data)"
   ]
  },
  {
   "cell_type": "code",
   "execution_count": 142,
   "id": "3b162d7c-3a48-4eeb-8554-dfd5d3c2313e",
   "metadata": {},
   "outputs": [
    {
     "data": {
      "text/plain": [
       "array([1, 1, 1, 1, 2, 2, 2, 2, 3, 3, 3, 3])"
      ]
     },
     "execution_count": 142,
     "metadata": {},
     "output_type": "execute_result"
    }
   ],
   "source": [
    "np.repeat(data,4)"
   ]
  },
  {
   "cell_type": "code",
   "execution_count": 143,
   "id": "b603b583-f374-4391-a16a-2a8668667f82",
   "metadata": {},
   "outputs": [
    {
     "data": {
      "text/plain": [
       "array([[2],\n",
       "       [3],\n",
       "       [1]])"
      ]
     },
     "execution_count": 143,
     "metadata": {},
     "output_type": "execute_result"
    }
   ],
   "source": [
    "np.roll(data,2)"
   ]
  },
  {
   "cell_type": "code",
   "execution_count": 124,
   "id": "1f1c593e-36e6-4eaf-bc42-48f6adc75f57",
   "metadata": {},
   "outputs": [
    {
     "data": {
      "text/plain": [
       "array([[1, 0, 0, 0],\n",
       "       [0, 2, 0, 0],\n",
       "       [0, 0, 3, 0],\n",
       "       [0, 0, 0, 4]])"
      ]
     },
     "execution_count": 124,
     "metadata": {},
     "output_type": "execute_result"
    }
   ],
   "source": [
    "np.diag(np.array([1,2,3,4]))"
   ]
  },
  {
   "cell_type": "markdown",
   "id": "84bb6a57-30be-4f6b-aef8-2290e89da842",
   "metadata": {},
   "source": [
    "#### Binary Operator"
   ]
  },
  {
   "cell_type": "code",
   "execution_count": 144,
   "id": "139137d2-46a6-4b1a-9cd8-9411739c7d3b",
   "metadata": {},
   "outputs": [],
   "source": [
    "arr1 = np.random.randint(1,10,(3,4))\n",
    "arr2 = np.random.randint(1,10,(3,4))"
   ]
  },
  {
   "cell_type": "code",
   "execution_count": 145,
   "id": "96b89072-b0cd-4503-b8ad-5328b5778440",
   "metadata": {},
   "outputs": [
    {
     "data": {
      "text/plain": [
       "array([[8, 1, 7, 2],\n",
       "       [4, 3, 1, 3],\n",
       "       [2, 5, 3, 8]])"
      ]
     },
     "execution_count": 145,
     "metadata": {},
     "output_type": "execute_result"
    }
   ],
   "source": [
    "arr1"
   ]
  },
  {
   "cell_type": "code",
   "execution_count": 146,
   "id": "bed28a76-aa27-401b-8239-6537fe40c21a",
   "metadata": {},
   "outputs": [
    {
     "data": {
      "text/plain": [
       "array([[8, 2, 9, 9],\n",
       "       [8, 9, 3, 5],\n",
       "       [1, 4, 7, 4]])"
      ]
     },
     "execution_count": 146,
     "metadata": {},
     "output_type": "execute_result"
    }
   ],
   "source": [
    "arr2"
   ]
  },
  {
   "cell_type": "code",
   "execution_count": 147,
   "id": "d97c9fba-5e7c-48ca-bbd6-becf75083ee1",
   "metadata": {},
   "outputs": [
    {
     "data": {
      "text/plain": [
       "array([[16,  3, 16, 11],\n",
       "       [12, 12,  4,  8],\n",
       "       [ 3,  9, 10, 12]])"
      ]
     },
     "execution_count": 147,
     "metadata": {},
     "output_type": "execute_result"
    }
   ],
   "source": [
    "arr1+arr2"
   ]
  },
  {
   "cell_type": "code",
   "execution_count": 148,
   "id": "2b1a11e6-f658-415d-babe-c5830d6c24d6",
   "metadata": {},
   "outputs": [
    {
     "data": {
      "text/plain": [
       "array([[64,  2, 63, 18],\n",
       "       [32, 27,  3, 15],\n",
       "       [ 2, 20, 21, 32]])"
      ]
     },
     "execution_count": 148,
     "metadata": {},
     "output_type": "execute_result"
    }
   ],
   "source": [
    "arr1*arr2"
   ]
  },
  {
   "cell_type": "code",
   "execution_count": 149,
   "id": "66eccc99-32ea-4366-9052-d35c18bef13e",
   "metadata": {},
   "outputs": [
    {
     "data": {
      "text/plain": [
       "array([[1.        , 0.5       , 0.77777778, 0.22222222],\n",
       "       [0.5       , 0.33333333, 0.33333333, 0.6       ],\n",
       "       [2.        , 1.25      , 0.42857143, 2.        ]])"
      ]
     },
     "execution_count": 149,
     "metadata": {},
     "output_type": "execute_result"
    }
   ],
   "source": [
    "arr1/arr2"
   ]
  },
  {
   "cell_type": "code",
   "execution_count": 150,
   "id": "aee08a92-6dae-4c0c-a465-81390ab3dbaf",
   "metadata": {},
   "outputs": [
    {
     "data": {
      "text/plain": [
       "array([[ 0, -1, -2, -7],\n",
       "       [-4, -6, -2, -2],\n",
       "       [ 1,  1, -4,  4]])"
      ]
     },
     "execution_count": 150,
     "metadata": {},
     "output_type": "execute_result"
    }
   ],
   "source": [
    "arr1-arr2"
   ]
  },
  {
   "cell_type": "code",
   "execution_count": 151,
   "id": "5d28c03e-62b7-4a94-9e82-bc4da3d2c181",
   "metadata": {},
   "outputs": [
    {
     "data": {
      "text/plain": [
       "array([[16777216,        1, 40353607,      512],\n",
       "       [   65536,    19683,        1,      243],\n",
       "       [       2,      625,     2187,     4096]])"
      ]
     },
     "execution_count": 151,
     "metadata": {},
     "output_type": "execute_result"
    }
   ],
   "source": [
    "arr1**arr2"
   ]
  },
  {
   "cell_type": "code",
   "execution_count": 135,
   "id": "13b7c627-841a-41d4-a09e-9232f91b9301",
   "metadata": {},
   "outputs": [
    {
     "data": {
      "text/plain": [
       "array([[ -3, -10,  -3,  -6],\n",
       "       [ -5,  -4,  -4, -10],\n",
       "       [ -4,  -8,  -4,  -3]])"
      ]
     },
     "execution_count": 135,
     "metadata": {},
     "output_type": "execute_result"
    }
   ],
   "source": [
    "~arr1"
   ]
  },
  {
   "cell_type": "code",
   "execution_count": 136,
   "id": "f3debe19-db1b-4e93-ba2e-ed286f40b14f",
   "metadata": {},
   "outputs": [
    {
     "data": {
      "text/plain": [
       "array([[2, 9, 2, 5],\n",
       "       [4, 3, 3, 9],\n",
       "       [3, 7, 3, 2]])"
      ]
     },
     "execution_count": 136,
     "metadata": {},
     "output_type": "execute_result"
    }
   ],
   "source": [
    "arr1"
   ]
  },
  {
   "cell_type": "code",
   "execution_count": 137,
   "id": "b21be821-bd18-45d1-ac54-28c164ffe804",
   "metadata": {},
   "outputs": [
    {
     "data": {
      "text/plain": [
       "array([[False,  True, False,  True],\n",
       "       [ True, False, False,  True],\n",
       "       [False,  True, False, False]])"
      ]
     },
     "execution_count": 137,
     "metadata": {},
     "output_type": "execute_result"
    }
   ],
   "source": [
    "arr1>arr2"
   ]
  },
  {
   "cell_type": "markdown",
   "id": "7b8da6a1-af9c-4d14-9be3-9664515e6b67",
   "metadata": {},
   "source": [
    "#### string functions"
   ]
  },
  {
   "cell_type": "code",
   "execution_count": 152,
   "id": "c0acfb4b-e2f0-40e2-bccb-8ddc8503ccef",
   "metadata": {},
   "outputs": [],
   "source": [
    "arr = np.array([\"saikat\",\"mondal\"])"
   ]
  },
  {
   "cell_type": "code",
   "execution_count": 153,
   "id": "2cb44468-106c-4c2c-af91-9dfc081c6876",
   "metadata": {},
   "outputs": [
    {
     "data": {
      "text/plain": [
       "array(['saikat', 'mondal'], dtype='<U6')"
      ]
     },
     "execution_count": 153,
     "metadata": {},
     "output_type": "execute_result"
    }
   ],
   "source": [
    "arr"
   ]
  },
  {
   "cell_type": "code",
   "execution_count": 154,
   "id": "1746a870-4b7f-49d3-81e6-23ff7833f924",
   "metadata": {},
   "outputs": [
    {
     "data": {
      "text/plain": [
       "array(['SAIKAT', 'MONDAL'], dtype='<U6')"
      ]
     },
     "execution_count": 154,
     "metadata": {},
     "output_type": "execute_result"
    }
   ],
   "source": [
    "np.char.upper(arr)"
   ]
  },
  {
   "cell_type": "code",
   "execution_count": 155,
   "id": "64246f80-5104-4a51-b8d3-4a2fc0f6fa83",
   "metadata": {},
   "outputs": [
    {
     "data": {
      "text/plain": [
       "array(['Saikat', 'Mondal'], dtype='<U6')"
      ]
     },
     "execution_count": 155,
     "metadata": {},
     "output_type": "execute_result"
    }
   ],
   "source": [
    "np.char.capitalize(arr)"
   ]
  },
  {
   "cell_type": "code",
   "execution_count": 156,
   "id": "d3536ee7-d6bc-42c7-b051-4288595419a6",
   "metadata": {},
   "outputs": [
    {
     "data": {
      "text/plain": [
       "array(['Saikat', 'Mondal'], dtype='<U6')"
      ]
     },
     "execution_count": 156,
     "metadata": {},
     "output_type": "execute_result"
    }
   ],
   "source": [
    "np.char.title(arr)"
   ]
  },
  {
   "cell_type": "markdown",
   "id": "204b5929-8cc4-4fa3-bbc9-04e0586863d2",
   "metadata": {},
   "source": [
    "#### Mathematical Function"
   ]
  },
  {
   "cell_type": "code",
   "execution_count": 158,
   "id": "663d9324-da9e-4d2e-8557-f6d4b85f4d67",
   "metadata": {},
   "outputs": [
    {
     "data": {
      "text/plain": [
       "array([[8, 1, 7, 2],\n",
       "       [4, 3, 1, 3],\n",
       "       [2, 5, 3, 8]])"
      ]
     },
     "execution_count": 158,
     "metadata": {},
     "output_type": "execute_result"
    }
   ],
   "source": [
    "arr1"
   ]
  },
  {
   "cell_type": "code",
   "execution_count": 159,
   "id": "ec0797da-0ed5-4d6d-be55-b1a56c10129b",
   "metadata": {},
   "outputs": [
    {
     "data": {
      "text/plain": [
       "array([[ 0.98935825,  0.84147098,  0.6569866 ,  0.90929743],\n",
       "       [-0.7568025 ,  0.14112001,  0.84147098,  0.14112001],\n",
       "       [ 0.90929743, -0.95892427,  0.14112001,  0.98935825]])"
      ]
     },
     "execution_count": 159,
     "metadata": {},
     "output_type": "execute_result"
    }
   ],
   "source": [
    "np.sin(arr1)"
   ]
  },
  {
   "cell_type": "code",
   "execution_count": 160,
   "id": "67479cec-4526-44f5-a25a-a1e58b31d377",
   "metadata": {},
   "outputs": [
    {
     "data": {
      "text/plain": [
       "array([[-0.14550003,  0.54030231,  0.75390225, -0.41614684],\n",
       "       [-0.65364362, -0.9899925 ,  0.54030231, -0.9899925 ],\n",
       "       [-0.41614684,  0.28366219, -0.9899925 , -0.14550003]])"
      ]
     },
     "execution_count": 160,
     "metadata": {},
     "output_type": "execute_result"
    }
   ],
   "source": [
    "np.cos(arr1)"
   ]
  },
  {
   "cell_type": "code",
   "execution_count": 161,
   "id": "e681e275-dd56-4728-83e3-6a9fb5714c7b",
   "metadata": {},
   "outputs": [
    {
     "data": {
      "text/plain": [
       "array([[-6.79971146,  1.55740772,  0.87144798, -2.18503986],\n",
       "       [ 1.15782128, -0.14254654,  1.55740772, -0.14254654],\n",
       "       [-2.18503986, -3.38051501, -0.14254654, -6.79971146]])"
      ]
     },
     "execution_count": 161,
     "metadata": {},
     "output_type": "execute_result"
    }
   ],
   "source": [
    "np.tan(arr1)"
   ]
  },
  {
   "cell_type": "code",
   "execution_count": 162,
   "id": "2a351f0f-3c25-4a9d-b7dc-9a987cad63ac",
   "metadata": {},
   "outputs": [
    {
     "data": {
      "text/plain": [
       "array([[0.90308999, 0.        , 0.84509804, 0.30103   ],\n",
       "       [0.60205999, 0.47712125, 0.        , 0.47712125],\n",
       "       [0.30103   , 0.69897   , 0.47712125, 0.90308999]])"
      ]
     },
     "execution_count": 162,
     "metadata": {},
     "output_type": "execute_result"
    }
   ],
   "source": [
    "np.log10(arr1)"
   ]
  },
  {
   "cell_type": "code",
   "execution_count": 163,
   "id": "9bb3d18e-7284-44de-8d7d-45828ffe1157",
   "metadata": {},
   "outputs": [
    {
     "data": {
      "text/plain": [
       "array([[2.98095799e+03, 2.71828183e+00, 1.09663316e+03, 7.38905610e+00],\n",
       "       [5.45981500e+01, 2.00855369e+01, 2.71828183e+00, 2.00855369e+01],\n",
       "       [7.38905610e+00, 1.48413159e+02, 2.00855369e+01, 2.98095799e+03]])"
      ]
     },
     "execution_count": 163,
     "metadata": {},
     "output_type": "execute_result"
    }
   ],
   "source": [
    "np.exp(arr1)"
   ]
  },
  {
   "cell_type": "code",
   "execution_count": 164,
   "id": "faad5777-b8de-42af-816e-bdd8ffe3b7ca",
   "metadata": {},
   "outputs": [
    {
     "data": {
      "text/plain": [
       "array([[64,  1, 49,  4],\n",
       "       [16,  9,  1,  9],\n",
       "       [ 4, 25,  9, 64]])"
      ]
     },
     "execution_count": 164,
     "metadata": {},
     "output_type": "execute_result"
    }
   ],
   "source": [
    "np.power(arr1,2)"
   ]
  },
  {
   "cell_type": "code",
   "execution_count": 165,
   "id": "7702e68e-a95c-4c87-b7f0-0f1fdf03bfeb",
   "metadata": {},
   "outputs": [
    {
     "data": {
      "text/plain": [
       "array([[8, 1, 7, 2],\n",
       "       [4, 3, 1, 3],\n",
       "       [2, 5, 3, 8]])"
      ]
     },
     "execution_count": 165,
     "metadata": {},
     "output_type": "execute_result"
    }
   ],
   "source": [
    "arr1"
   ]
  },
  {
   "cell_type": "code",
   "execution_count": 166,
   "id": "3febe353-aac5-46cf-951a-61714fa8c57c",
   "metadata": {},
   "outputs": [
    {
     "data": {
      "text/plain": [
       "3.9166666666666665"
      ]
     },
     "execution_count": 166,
     "metadata": {},
     "output_type": "execute_result"
    }
   ],
   "source": [
    "np.mean(arr1)"
   ]
  },
  {
   "cell_type": "code",
   "execution_count": 167,
   "id": "90afbf52-81c4-4417-9dcc-b1c4cf3efd06",
   "metadata": {},
   "outputs": [
    {
     "data": {
      "text/plain": [
       "3.0"
      ]
     },
     "execution_count": 167,
     "metadata": {},
     "output_type": "execute_result"
    }
   ],
   "source": [
    "np.median(arr1)"
   ]
  },
  {
   "cell_type": "code",
   "execution_count": 168,
   "id": "bf081eb6-7a1c-4da2-b252-eebd2f24abfc",
   "metadata": {},
   "outputs": [
    {
     "data": {
      "text/plain": [
       "2.4309920243024705"
      ]
     },
     "execution_count": 168,
     "metadata": {},
     "output_type": "execute_result"
    }
   ],
   "source": [
    "np.std(arr1)"
   ]
  },
  {
   "cell_type": "code",
   "execution_count": 169,
   "id": "b347da79-1265-42fa-ac5c-effb23a7983a",
   "metadata": {},
   "outputs": [
    {
     "data": {
      "text/plain": [
       "5.909722222222224"
      ]
     },
     "execution_count": 169,
     "metadata": {},
     "output_type": "execute_result"
    }
   ],
   "source": [
    "np.var(arr1)"
   ]
  },
  {
   "cell_type": "code",
   "execution_count": 170,
   "id": "54ce1c9c-636e-4900-85e2-151dd2a3bfdd",
   "metadata": {},
   "outputs": [
    {
     "data": {
      "text/plain": [
       "1"
      ]
     },
     "execution_count": 170,
     "metadata": {},
     "output_type": "execute_result"
    }
   ],
   "source": [
    "np.min(arr1)"
   ]
  },
  {
   "cell_type": "code",
   "execution_count": 171,
   "id": "53e4aaa2-209c-4d15-bf88-8fb030b38d3a",
   "metadata": {},
   "outputs": [
    {
     "data": {
      "text/plain": [
       "8"
      ]
     },
     "execution_count": 171,
     "metadata": {},
     "output_type": "execute_result"
    }
   ],
   "source": [
    "np.max(arr1)"
   ]
  },
  {
   "cell_type": "markdown",
   "id": "8a7dd186-90aa-4674-b94e-5f0861ceba21",
   "metadata": {},
   "source": [
    "#### Arithmetic Operations"
   ]
  },
  {
   "cell_type": "code",
   "execution_count": 172,
   "id": "2d8bc8bb-a4e3-47d2-89bc-89c25a22866a",
   "metadata": {},
   "outputs": [
    {
     "data": {
      "text/plain": [
       "array([[8, 1, 7, 2],\n",
       "       [4, 3, 1, 3],\n",
       "       [2, 5, 3, 8]])"
      ]
     },
     "execution_count": 172,
     "metadata": {},
     "output_type": "execute_result"
    }
   ],
   "source": [
    "arr1"
   ]
  },
  {
   "cell_type": "code",
   "execution_count": 173,
   "id": "51facf7e-9734-4f40-b9ea-625311445de6",
   "metadata": {},
   "outputs": [
    {
     "data": {
      "text/plain": [
       "array([[8, 2, 9, 9],\n",
       "       [8, 9, 3, 5],\n",
       "       [1, 4, 7, 4]])"
      ]
     },
     "execution_count": 173,
     "metadata": {},
     "output_type": "execute_result"
    }
   ],
   "source": [
    "arr2"
   ]
  },
  {
   "cell_type": "code",
   "execution_count": 174,
   "id": "20fa0ac7-4935-43fa-8dcb-1c4c258efe82",
   "metadata": {},
   "outputs": [
    {
     "data": {
      "text/plain": [
       "array([[ 0, -1, -2, -7],\n",
       "       [-4, -6, -2, -2],\n",
       "       [ 1,  1, -4,  4]])"
      ]
     },
     "execution_count": 174,
     "metadata": {},
     "output_type": "execute_result"
    }
   ],
   "source": [
    "arr1-arr2"
   ]
  },
  {
   "cell_type": "code",
   "execution_count": 175,
   "id": "9cdc6768-8d09-4095-a3f5-2fb03a64a0bb",
   "metadata": {},
   "outputs": [
    {
     "data": {
      "text/plain": [
       "array([[ 0, -1, -2, -7],\n",
       "       [-4, -6, -2, -2],\n",
       "       [ 1,  1, -4,  4]])"
      ]
     },
     "execution_count": 175,
     "metadata": {},
     "output_type": "execute_result"
    }
   ],
   "source": [
    "np.subtract(arr1,arr2)"
   ]
  },
  {
   "cell_type": "code",
   "execution_count": 166,
   "id": "8ac79577-27e5-4fd8-adef-24295afdd7ec",
   "metadata": {},
   "outputs": [
    {
     "data": {
      "text/plain": [
       "array([[ 8, 18, 10, 10],\n",
       "       [ 4,  9, 18, 36],\n",
       "       [21, 14,  9,  6]])"
      ]
     },
     "execution_count": 166,
     "metadata": {},
     "output_type": "execute_result"
    }
   ],
   "source": [
    "np.multiply(arr1,arr2)"
   ]
  },
  {
   "cell_type": "code",
   "execution_count": 176,
   "id": "92319b90-d54c-446a-b058-5a50c6c722cf",
   "metadata": {},
   "outputs": [
    {
     "data": {
      "text/plain": [
       "array([[0, 1, 7, 2],\n",
       "       [4, 3, 1, 3],\n",
       "       [0, 1, 3, 0]])"
      ]
     },
     "execution_count": 176,
     "metadata": {},
     "output_type": "execute_result"
    }
   ],
   "source": [
    "np.mod(arr1,arr2)"
   ]
  },
  {
   "cell_type": "code",
   "execution_count": 177,
   "id": "c807db72-a97d-41e0-b6f3-3e32b3d0a67d",
   "metadata": {},
   "outputs": [
    {
     "data": {
      "text/plain": [
       "array([[16777216,        1, 40353607,      512],\n",
       "       [   65536,    19683,        1,      243],\n",
       "       [       2,      625,     2187,     4096]])"
      ]
     },
     "execution_count": 177,
     "metadata": {},
     "output_type": "execute_result"
    }
   ],
   "source": [
    "np.power(arr1,arr2)"
   ]
  },
  {
   "cell_type": "code",
   "execution_count": 178,
   "id": "88f5fe9c-4b3f-4f6e-b0f2-9fe5bed769cd",
   "metadata": {},
   "outputs": [
    {
     "data": {
      "text/plain": [
       "array([[2.82842712, 1.        , 2.64575131, 1.41421356],\n",
       "       [2.        , 1.73205081, 1.        , 1.73205081],\n",
       "       [1.41421356, 2.23606798, 1.73205081, 2.82842712]])"
      ]
     },
     "execution_count": 178,
     "metadata": {},
     "output_type": "execute_result"
    }
   ],
   "source": [
    "np.sqrt(arr1)"
   ]
  },
  {
   "cell_type": "markdown",
   "id": "5fdeef56-03a5-480d-b38c-58725ad7e7d0",
   "metadata": {},
   "source": [
    "#### Statistical function"
   ]
  },
  {
   "cell_type": "code",
   "execution_count": 180,
   "id": "2ffb5f2e-ed06-4891-aad5-155cc3adc23c",
   "metadata": {},
   "outputs": [
    {
     "data": {
      "text/plain": [
       "3.9166666666666665"
      ]
     },
     "execution_count": 180,
     "metadata": {},
     "output_type": "execute_result"
    }
   ],
   "source": [
    "np.mean(arr1)"
   ]
  },
  {
   "cell_type": "code",
   "execution_count": 181,
   "id": "08e75544-c5a5-40c5-9b1a-c148192d8924",
   "metadata": {},
   "outputs": [
    {
     "data": {
      "text/plain": [
       "2.4309920243024705"
      ]
     },
     "execution_count": 181,
     "metadata": {},
     "output_type": "execute_result"
    }
   ],
   "source": [
    "np.std(arr1)"
   ]
  },
  {
   "cell_type": "code",
   "execution_count": 182,
   "id": "434f27d3-deaa-46a2-b8fb-78bf5018a9c2",
   "metadata": {},
   "outputs": [
    {
     "data": {
      "text/plain": [
       "3.0"
      ]
     },
     "execution_count": 182,
     "metadata": {},
     "output_type": "execute_result"
    }
   ],
   "source": [
    "np.median(arr1)"
   ]
  },
  {
   "cell_type": "code",
   "execution_count": 183,
   "id": "07e0ea0a-fe7a-4706-a818-f99eaa1d64b3",
   "metadata": {},
   "outputs": [
    {
     "data": {
      "text/plain": [
       "5.909722222222224"
      ]
     },
     "execution_count": 183,
     "metadata": {},
     "output_type": "execute_result"
    }
   ],
   "source": [
    "np.var(arr1)"
   ]
  },
  {
   "cell_type": "markdown",
   "id": "30b60d37-6284-4c6d-a9b9-07a036b0a7d0",
   "metadata": {},
   "source": [
    "#### Sort, search, Counting function"
   ]
  },
  {
   "cell_type": "code",
   "execution_count": 184,
   "id": "2cb21d8f-0abc-4d16-8cb0-130e942893bf",
   "metadata": {},
   "outputs": [],
   "source": [
    "arr = np.array([4,2,8,5,3,9,12,56])"
   ]
  },
  {
   "cell_type": "code",
   "execution_count": 185,
   "id": "a5283567-bd7d-4eac-b83b-4539b4a569df",
   "metadata": {},
   "outputs": [
    {
     "data": {
      "text/plain": [
       "array([ 4,  2,  8,  5,  3,  9, 12, 56])"
      ]
     },
     "execution_count": 185,
     "metadata": {},
     "output_type": "execute_result"
    }
   ],
   "source": [
    "arr"
   ]
  },
  {
   "cell_type": "code",
   "execution_count": 186,
   "id": "2964f158-8991-43ae-8e2e-b78551fa1aed",
   "metadata": {},
   "outputs": [
    {
     "data": {
      "text/plain": [
       "array([ 2,  3,  4,  5,  8,  9, 12, 56])"
      ]
     },
     "execution_count": 186,
     "metadata": {},
     "output_type": "execute_result"
    }
   ],
   "source": [
    "np.sort(arr)"
   ]
  },
  {
   "cell_type": "code",
   "execution_count": 187,
   "id": "df573bdd-3d32-4eab-97f5-5a0e359953c0",
   "metadata": {},
   "outputs": [
    {
     "data": {
      "text/plain": [
       "5"
      ]
     },
     "execution_count": 187,
     "metadata": {},
     "output_type": "execute_result"
    }
   ],
   "source": [
    "np.searchsorted(arr,6)"
   ]
  },
  {
   "cell_type": "code",
   "execution_count": 188,
   "id": "59594859-cc6e-40dd-907a-d6f4acb7249b",
   "metadata": {},
   "outputs": [],
   "source": [
    "arr1 = np.array([0,324,645,65,6,6,0,0,0,234])"
   ]
  },
  {
   "cell_type": "code",
   "execution_count": 189,
   "id": "2d2a5b32-d804-42da-9d90-c790429f687c",
   "metadata": {},
   "outputs": [
    {
     "data": {
      "text/plain": [
       "array([  0, 324, 645,  65,   6,   6,   0,   0,   0, 234])"
      ]
     },
     "execution_count": 189,
     "metadata": {},
     "output_type": "execute_result"
    }
   ],
   "source": [
    "arr1"
   ]
  },
  {
   "cell_type": "code",
   "execution_count": 190,
   "id": "caf2708b-e3cf-4812-93ec-78c27caab87c",
   "metadata": {},
   "outputs": [
    {
     "data": {
      "text/plain": [
       "6"
      ]
     },
     "execution_count": 190,
     "metadata": {},
     "output_type": "execute_result"
    }
   ],
   "source": [
    "np.count_nonzero(arr1)"
   ]
  },
  {
   "cell_type": "code",
   "execution_count": 191,
   "id": "54126412-6d83-473a-a3e7-4bd739bdeda8",
   "metadata": {},
   "outputs": [
    {
     "data": {
      "text/plain": [
       "(array([1, 2, 3, 4, 5, 9]),)"
      ]
     },
     "execution_count": 191,
     "metadata": {},
     "output_type": "execute_result"
    }
   ],
   "source": [
    "np.where(arr1>0)"
   ]
  },
  {
   "cell_type": "code",
   "execution_count": 191,
   "id": "0228f72e-7380-4470-ae8e-d0d3cbbca969",
   "metadata": {},
   "outputs": [
    {
     "data": {
      "text/plain": [
       "array([324, 645,  65,   6,   6, 234])"
      ]
     },
     "execution_count": 191,
     "metadata": {},
     "output_type": "execute_result"
    }
   ],
   "source": [
    "np.extract(arr1>2,arr1)"
   ]
  },
  {
   "cell_type": "markdown",
   "id": "5255f917-843e-4434-8da3-dfe4f1e78f9a",
   "metadata": {},
   "source": [
    "#### Byte swapping"
   ]
  },
  {
   "cell_type": "code",
   "execution_count": 192,
   "id": "9b02ac81-e9c1-422e-b5e1-6ba371eb147e",
   "metadata": {},
   "outputs": [
    {
     "data": {
      "text/plain": [
       "array([  0, 324, 645,  65,   6,   6,   0,   0,   0, 234])"
      ]
     },
     "execution_count": 192,
     "metadata": {},
     "output_type": "execute_result"
    }
   ],
   "source": [
    "arr1"
   ]
  },
  {
   "cell_type": "code",
   "execution_count": 193,
   "id": "d57cda0a-b14d-4d32-b5bd-27321c222157",
   "metadata": {},
   "outputs": [
    {
     "data": {
      "text/plain": [
       "array([ 288230376151711744,  144115188075855872,  576460752303423488,\n",
       "        360287970189639680,  216172782113783808,  648518346341351424,\n",
       "        864691128455135232, 4035225266123964416])"
      ]
     },
     "execution_count": 193,
     "metadata": {},
     "output_type": "execute_result"
    }
   ],
   "source": [
    "arr.byteswap()"
   ]
  },
  {
   "cell_type": "code",
   "execution_count": 194,
   "id": "9af66e74-b0a1-4ee2-af04-ca6eedfba902",
   "metadata": {},
   "outputs": [
    {
     "data": {
      "text/plain": [
       "array([ 4,  2,  8,  5,  3,  9, 12, 56])"
      ]
     },
     "execution_count": 194,
     "metadata": {},
     "output_type": "execute_result"
    }
   ],
   "source": [
    "arr"
   ]
  },
  {
   "cell_type": "code",
   "execution_count": 195,
   "id": "2570eff7-6649-4672-852a-56cf79d8da35",
   "metadata": {},
   "outputs": [
    {
     "data": {
      "text/plain": [
       "array([ 288230376151711744,  144115188075855872,  576460752303423488,\n",
       "        360287970189639680,  216172782113783808,  648518346341351424,\n",
       "        864691128455135232, 4035225266123964416])"
      ]
     },
     "execution_count": 195,
     "metadata": {},
     "output_type": "execute_result"
    }
   ],
   "source": [
    "arr.byteswap(True)"
   ]
  },
  {
   "cell_type": "code",
   "execution_count": 196,
   "id": "4d5dbd0c-cba9-4258-96b7-30cedf9d79f5",
   "metadata": {},
   "outputs": [
    {
     "data": {
      "text/plain": [
       "array([ 288230376151711744,  144115188075855872,  576460752303423488,\n",
       "        360287970189639680,  216172782113783808,  648518346341351424,\n",
       "        864691128455135232, 4035225266123964416])"
      ]
     },
     "execution_count": 196,
     "metadata": {},
     "output_type": "execute_result"
    }
   ],
   "source": [
    "arr"
   ]
  },
  {
   "cell_type": "markdown",
   "id": "d77d68c5-95bc-4dcb-b474-5dd3e94267c0",
   "metadata": {},
   "source": [
    "#### Matrix Libraries"
   ]
  },
  {
   "cell_type": "code",
   "execution_count": 198,
   "id": "e02ec5e2-32a1-40e9-af10-d12a441587a3",
   "metadata": {},
   "outputs": [],
   "source": [
    "import numpy.matlib as nm"
   ]
  },
  {
   "cell_type": "code",
   "execution_count": 199,
   "id": "07253e07-f7f0-4e2c-83bb-4e8b640211ec",
   "metadata": {},
   "outputs": [
    {
     "data": {
      "text/plain": [
       "matrix([[0., 0., 0., 0., 0.]])"
      ]
     },
     "execution_count": 199,
     "metadata": {},
     "output_type": "execute_result"
    }
   ],
   "source": [
    "nm.zeros(5)"
   ]
  },
  {
   "cell_type": "code",
   "execution_count": 200,
   "id": "416811bd-7755-416c-aa0c-8ebca5253585",
   "metadata": {},
   "outputs": [
    {
     "data": {
      "text/plain": [
       "matrix([[1., 1., 1., 1.],\n",
       "        [1., 1., 1., 1.],\n",
       "        [1., 1., 1., 1.]])"
      ]
     },
     "execution_count": 200,
     "metadata": {},
     "output_type": "execute_result"
    }
   ],
   "source": [
    "nm.ones((3,4))"
   ]
  },
  {
   "cell_type": "code",
   "execution_count": 201,
   "id": "01096b2d-d355-4f96-be40-f2dfa9e8e654",
   "metadata": {},
   "outputs": [
    {
     "data": {
      "text/plain": [
       "matrix([[1., 0., 0., 0.],\n",
       "        [0., 1., 0., 0.],\n",
       "        [0., 0., 1., 0.],\n",
       "        [0., 0., 0., 1.]])"
      ]
     },
     "execution_count": 201,
     "metadata": {},
     "output_type": "execute_result"
    }
   ],
   "source": [
    "nm.eye(4)"
   ]
  },
  {
   "cell_type": "markdown",
   "id": "121be759-6c8b-4412-b749-dedb9153ac92",
   "metadata": {},
   "source": [
    "#### Linear Algebra"
   ]
  },
  {
   "cell_type": "code",
   "execution_count": 203,
   "id": "baabc455-b499-4489-aa8f-a269e425a39e",
   "metadata": {},
   "outputs": [],
   "source": [
    "arr1 = np.random.randint([[2,3],[4,5]])"
   ]
  },
  {
   "cell_type": "code",
   "execution_count": 204,
   "id": "f0d5aef3-cd55-47ab-b6ba-ae69bf4487d8",
   "metadata": {},
   "outputs": [
    {
     "data": {
      "text/plain": [
       "array([[0, 0],\n",
       "       [0, 2]])"
      ]
     },
     "execution_count": 204,
     "metadata": {},
     "output_type": "execute_result"
    }
   ],
   "source": [
    "arr1"
   ]
  },
  {
   "cell_type": "code",
   "execution_count": 205,
   "id": "d1a82393-6f82-46c5-af57-7e807aff0d43",
   "metadata": {},
   "outputs": [],
   "source": [
    "arr2 = np.random.randint([[5,3],[2,5]])"
   ]
  },
  {
   "cell_type": "code",
   "execution_count": 206,
   "id": "bf0f9a72-8fd0-4dfb-a627-2a7dca900b76",
   "metadata": {},
   "outputs": [
    {
     "data": {
      "text/plain": [
       "array([[3, 1],\n",
       "       [0, 4]])"
      ]
     },
     "execution_count": 206,
     "metadata": {},
     "output_type": "execute_result"
    }
   ],
   "source": [
    "arr2"
   ]
  },
  {
   "cell_type": "code",
   "execution_count": 207,
   "id": "91769cb0-fddf-459c-8a30-3310d1bd4806",
   "metadata": {},
   "outputs": [
    {
     "data": {
      "text/plain": [
       "array([[0, 0],\n",
       "       [0, 8]])"
      ]
     },
     "execution_count": 207,
     "metadata": {},
     "output_type": "execute_result"
    }
   ],
   "source": [
    "np.dot(arr1,arr2)"
   ]
  },
  {
   "cell_type": "code",
   "execution_count": 208,
   "id": "c76f9c58-b1cf-4571-9ee4-830308d6b90d",
   "metadata": {},
   "outputs": [
    {
     "data": {
      "text/plain": [
       "array([[0, 0],\n",
       "       [0, 8]])"
      ]
     },
     "execution_count": 208,
     "metadata": {},
     "output_type": "execute_result"
    }
   ],
   "source": [
    "arr1@arr2"
   ]
  },
  {
   "cell_type": "markdown",
   "id": "f300345c-6583-4e9a-a6d5-58036c2b76d5",
   "metadata": {},
   "source": [
    "#### Some more functionality"
   ]
  },
  {
   "cell_type": "code",
   "execution_count": 209,
   "id": "69b6618b-1f79-4f3b-a6d6-6bd31f3dbdeb",
   "metadata": {},
   "outputs": [],
   "source": [
    "arr = [1,2,3,4,5,5,6,6,2,3]"
   ]
  },
  {
   "cell_type": "code",
   "execution_count": 210,
   "id": "71b88e9a-f3bd-4e77-8cd5-ce3988b844ba",
   "metadata": {},
   "outputs": [
    {
     "data": {
      "text/plain": [
       "array([1, 2, 3, 4, 5, 6])"
      ]
     },
     "execution_count": 210,
     "metadata": {},
     "output_type": "execute_result"
    }
   ],
   "source": [
    "np.unique(arr)"
   ]
  },
  {
   "cell_type": "code",
   "execution_count": 211,
   "id": "5cbda20a-6fe2-4794-9df6-1489c1c7c6aa",
   "metadata": {},
   "outputs": [
    {
     "data": {
      "text/plain": [
       "array([3, 2, 6, 6, 5, 5, 4, 3, 2, 1])"
      ]
     },
     "execution_count": 211,
     "metadata": {},
     "output_type": "execute_result"
    }
   ],
   "source": [
    "np.flip(arr)"
   ]
  },
  {
   "cell_type": "code",
   "execution_count": 212,
   "id": "d1fe54a4-129d-4ba1-ad84-a546efd4db15",
   "metadata": {},
   "outputs": [
    {
     "data": {
      "text/plain": [
       "array([0, 1, 8, 2, 9, 3, 4, 5, 6, 7])"
      ]
     },
     "execution_count": 212,
     "metadata": {},
     "output_type": "execute_result"
    }
   ],
   "source": [
    "np.argsort(arr)"
   ]
  },
  {
   "cell_type": "code",
   "execution_count": 213,
   "id": "cfefaf1f-3f9d-4edc-a945-257b983555ac",
   "metadata": {},
   "outputs": [
    {
     "data": {
      "text/plain": [
       "6"
      ]
     },
     "execution_count": 213,
     "metadata": {},
     "output_type": "execute_result"
    }
   ],
   "source": [
    "np.argmax(arr)"
   ]
  },
  {
   "cell_type": "code",
   "execution_count": 214,
   "id": "6cc8a0a3-98c9-4a0f-9407-b77aea77df69",
   "metadata": {},
   "outputs": [
    {
     "data": {
      "text/plain": [
       "10"
      ]
     },
     "execution_count": 214,
     "metadata": {},
     "output_type": "execute_result"
    }
   ],
   "source": [
    "np.count_nonzero(arr)"
   ]
  },
  {
   "cell_type": "markdown",
   "id": "70099f1f-bfa9-48cd-b28f-528272046d64",
   "metadata": {},
   "source": [
    "#### There are lots more in NumPy."
   ]
  },
  {
   "cell_type": "code",
   "execution_count": null,
   "id": "038b25c8-ffd2-47a1-8605-1a684ec6c927",
   "metadata": {},
   "outputs": [],
   "source": []
  }
 ],
 "metadata": {
  "kernelspec": {
   "display_name": "Python 3 (ipykernel)",
   "language": "python",
   "name": "python3"
  },
  "language_info": {
   "codemirror_mode": {
    "name": "ipython",
    "version": 3
   },
   "file_extension": ".py",
   "mimetype": "text/x-python",
   "name": "python",
   "nbconvert_exporter": "python",
   "pygments_lexer": "ipython3",
   "version": "3.10.8"
  }
 },
 "nbformat": 4,
 "nbformat_minor": 5
}
